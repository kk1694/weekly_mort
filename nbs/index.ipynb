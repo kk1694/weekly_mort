{
 "cells": [
  {
   "cell_type": "markdown",
   "metadata": {},
   "source": [
    "# Weekly Mortality\n",
    "\n",
    "> A repo for collecting weekly mortality"
   ]
  },
  {
   "cell_type": "markdown",
   "metadata": {},
   "source": [
    "<img src=\"../total_deaths.png\">"
   ]
  },
  {
   "cell_type": "markdown",
   "metadata": {},
   "source": [
    "Excess mortality (how much larger the number of 2020 deaths are vs previous years) is an important source of information for undertanding COVID-19. \n",
    "\n",
    "This data is available from many statistics bureaus. However, as far as I'm aware, it's aggregated nowhere. This is unfortunate, as researchers/journalists/random folks who want to use it have to fish it together from multiple sources.\n",
    "\n",
    "Moreover, the data needs to be structured properly. Releases are often in human-readable excel spreadsheets, but that's not very helpful for code. Hence, I aim to put everything into easy-to-use .csv files.\n",
    "\n",
    "Similar projects have been done by the [Economist](https://www.economist.com/graphic-detail/2020/04/16/tracking-covid-19-excess-deaths-across-countries) or [The New York Times](https://www.nytimes.com/interactive/2020/04/21/world/coronavirus-missing-deaths.html). However, their data & code are not publicly available. \n",
    "\n",
    "For now, I've only processed the UK and the Netherlands, but aim to include more countries soon.\n",
    "\n",
    "The repo itself uses [nbdev](https://github.com/fastai/nbdev). All data processing is done in jupyter notebooks. The code is not very clean, let me know if there are any bugs or inaccuracies."
   ]
  },
  {
   "cell_type": "markdown",
   "metadata": {},
   "source": [
    "## Data"
   ]
  },
  {
   "cell_type": "markdown",
   "metadata": {},
   "source": [
    "The data in the `dataset/` folder. It contains 3 files."
   ]
  },
  {
   "cell_type": "markdown",
   "metadata": {},
   "source": [
    "### total_deaths.csv"
   ]
  },
  {
   "cell_type": "markdown",
   "metadata": {},
   "source": [
    "This file tabulates deaths by country, week for 2017 - 2020. Note that for some countries, week 0 is fractional, so it's best to start any analysis from week 1."
   ]
  },
  {
   "cell_type": "code",
   "execution_count": null,
   "metadata": {},
   "outputs": [
    {
     "data": {
      "text/html": [
       "<table border=\"1\" class=\"dataframe\">\n",
       "  <thead>\n",
       "    <tr style=\"text-align: right;\">\n",
       "      <th></th>\n",
       "      <th>Country</th>\n",
       "      <th>Week</th>\n",
       "      <th>Deaths2017</th>\n",
       "      <th>Deaths2018</th>\n",
       "      <th>Deaths2019</th>\n",
       "      <th>Deaths2020</th>\n",
       "    </tr>\n",
       "  </thead>\n",
       "  <tbody>\n",
       "    <tr>\n",
       "      <th>0</th>\n",
       "      <td>Netherlands</td>\n",
       "      <td>0</td>\n",
       "      <td>469.0</td>\n",
       "      <td>3343.0</td>\n",
       "      <td>2606.0</td>\n",
       "      <td>2242.0</td>\n",
       "    </tr>\n",
       "    <tr>\n",
       "      <th>1</th>\n",
       "      <td>Netherlands</td>\n",
       "      <td>1</td>\n",
       "      <td>3568.0</td>\n",
       "      <td>3359.0</td>\n",
       "      <td>3262.0</td>\n",
       "      <td>3364.0</td>\n",
       "    </tr>\n",
       "    <tr>\n",
       "      <th>2</th>\n",
       "      <td>Netherlands</td>\n",
       "      <td>2</td>\n",
       "      <td>3637.0</td>\n",
       "      <td>3364.0</td>\n",
       "      <td>3150.0</td>\n",
       "      <td>3151.0</td>\n",
       "    </tr>\n",
       "    <tr>\n",
       "      <th>3</th>\n",
       "      <td>Netherlands</td>\n",
       "      <td>3</td>\n",
       "      <td>3487.0</td>\n",
       "      <td>3322.0</td>\n",
       "      <td>3178.0</td>\n",
       "      <td>3040.0</td>\n",
       "    </tr>\n",
       "    <tr>\n",
       "      <th>4</th>\n",
       "      <td>Netherlands</td>\n",
       "      <td>4</td>\n",
       "      <td>3626.0</td>\n",
       "      <td>3403.0</td>\n",
       "      <td>3143.0</td>\n",
       "      <td>3157.0</td>\n",
       "    </tr>\n",
       "  </tbody>\n",
       "</table>"
      ],
      "text/plain": [
       "<IPython.core.display.HTML object>"
      ]
     },
     "execution_count": null,
     "metadata": {},
     "output_type": "execute_result"
    }
   ],
   "source": [
    "import pandas as pd\n",
    "from IPython.core.display import HTML\n",
    "\n",
    "HTML(pd.read_csv('../dataset/total_deaths.csv').head().to_html())"
   ]
  },
  {
   "cell_type": "markdown",
   "metadata": {},
   "source": [
    "### excess_deaths.csv"
   ]
  },
  {
   "cell_type": "markdown",
   "metadata": {},
   "source": [
    "Some countries give larger granularity than simply total deaths. They might break down the numbers by age group, region, etc. Below are the subgroups for each country.\n",
    "\n",
    "Note that each country usually doesn't have all combinations for all subgroups. For example, the UK breaks down deaths by age, and also by geography; but it doesn't break them down by age *and* geography."
   ]
  },
  {
   "cell_type": "code",
   "execution_count": null,
   "metadata": {},
   "outputs": [
    {
     "data": {
      "text/html": [
       "<table border=\"1\" class=\"dataframe\">\n",
       "  <thead>\n",
       "    <tr style=\"text-align: right;\">\n",
       "      <th></th>\n",
       "      <th>Country</th>\n",
       "      <th>Year</th>\n",
       "      <th>Age</th>\n",
       "      <th>Sex</th>\n",
       "      <th>Region</th>\n",
       "      <th>Condition</th>\n",
       "    </tr>\n",
       "  </thead>\n",
       "  <tbody>\n",
       "    <tr>\n",
       "      <th>0</th>\n",
       "      <td>Netherlands</td>\n",
       "      <td>[2017, 2018, 2019, 2020]</td>\n",
       "      <td>[Total, 0-64, 65-79, 80+]</td>\n",
       "      <td>[Total, Male, Female]</td>\n",
       "      <td>[Total]</td>\n",
       "      <td>[Total]</td>\n",
       "    </tr>\n",
       "    <tr>\n",
       "      <th>1</th>\n",
       "      <td>United Kingdom</td>\n",
       "      <td>[2020, 2017, 2018, 2019]</td>\n",
       "      <td>[Total, 01-14, 15-44, 45-64, 65-74, 75-84, 85+, Under 1 year]</td>\n",
       "      <td>[Total, Female, Male]</td>\n",
       "      <td>[Total, North East, North West, Yorkshire and The Humber, East Midlands, West Midlands, East, London, South East, South West, Wales]</td>\n",
       "      <td>[Total, Respiratory]</td>\n",
       "    </tr>\n",
       "  </tbody>\n",
       "</table>"
      ],
      "text/plain": [
       "<IPython.core.display.HTML object>"
      ]
     },
     "execution_count": null,
     "metadata": {},
     "output_type": "execute_result"
    }
   ],
   "source": [
    "from weekly_mort.collect import SUMMARY\n",
    "\n",
    "HTML(SUMMARY)"
   ]
  },
  {
   "cell_type": "markdown",
   "metadata": {},
   "source": [
    "The data is already in an easy-to-use format."
   ]
  },
  {
   "cell_type": "code",
   "execution_count": null,
   "metadata": {},
   "outputs": [
    {
     "data": {
      "text/html": [
       "<table border=\"1\" class=\"dataframe\">\n",
       "  <thead>\n",
       "    <tr style=\"text-align: right;\">\n",
       "      <th></th>\n",
       "      <th>Country</th>\n",
       "      <th>Week</th>\n",
       "      <th>Year</th>\n",
       "      <th>Age</th>\n",
       "      <th>Sex</th>\n",
       "      <th>Region</th>\n",
       "      <th>Condition</th>\n",
       "      <th>Deaths</th>\n",
       "    </tr>\n",
       "  </thead>\n",
       "  <tbody>\n",
       "    <tr>\n",
       "      <th>0</th>\n",
       "      <td>Netherlands</td>\n",
       "      <td>0</td>\n",
       "      <td>2017</td>\n",
       "      <td>Total</td>\n",
       "      <td>Total</td>\n",
       "      <td>Total</td>\n",
       "      <td>Total</td>\n",
       "      <td>469</td>\n",
       "    </tr>\n",
       "    <tr>\n",
       "      <th>1</th>\n",
       "      <td>Netherlands</td>\n",
       "      <td>1</td>\n",
       "      <td>2017</td>\n",
       "      <td>Total</td>\n",
       "      <td>Total</td>\n",
       "      <td>Total</td>\n",
       "      <td>Total</td>\n",
       "      <td>3568</td>\n",
       "    </tr>\n",
       "    <tr>\n",
       "      <th>2</th>\n",
       "      <td>Netherlands</td>\n",
       "      <td>2</td>\n",
       "      <td>2017</td>\n",
       "      <td>Total</td>\n",
       "      <td>Total</td>\n",
       "      <td>Total</td>\n",
       "      <td>Total</td>\n",
       "      <td>3637</td>\n",
       "    </tr>\n",
       "    <tr>\n",
       "      <th>3</th>\n",
       "      <td>Netherlands</td>\n",
       "      <td>3</td>\n",
       "      <td>2017</td>\n",
       "      <td>Total</td>\n",
       "      <td>Total</td>\n",
       "      <td>Total</td>\n",
       "      <td>Total</td>\n",
       "      <td>3487</td>\n",
       "    </tr>\n",
       "    <tr>\n",
       "      <th>4</th>\n",
       "      <td>Netherlands</td>\n",
       "      <td>4</td>\n",
       "      <td>2017</td>\n",
       "      <td>Total</td>\n",
       "      <td>Total</td>\n",
       "      <td>Total</td>\n",
       "      <td>Total</td>\n",
       "      <td>3626</td>\n",
       "    </tr>\n",
       "  </tbody>\n",
       "</table>"
      ],
      "text/plain": [
       "<IPython.core.display.HTML object>"
      ]
     },
     "execution_count": null,
     "metadata": {},
     "output_type": "execute_result"
    }
   ],
   "source": [
    "df = pd.read_csv('../dataset/excess_deaths.csv')\n",
    "\n",
    "HTML(df.head().to_html())"
   ]
  },
  {
   "cell_type": "code",
   "execution_count": null,
   "metadata": {},
   "outputs": [],
   "source": [
    "import matplotlib.pyplot as plt\n",
    "import datetime\n",
    "\n",
    "uk = df[df.Country == 'United Kingdom']\n",
    "uk = uk[(uk.Age != 'Total') & (uk.Region == 'Total') & (uk.Condition == 'Total')]\n",
    "\n",
    "uk.loc[uk.Age == 'Under 1 year', 'Age'] = '0-1'\n",
    "ages = list(uk.Age.unique())\n",
    "ages.sort()\n",
    "\n",
    "fig, axes = plt.subplots(7, 3, figsize=(15, 8), sharex=True, sharey='row')\n",
    "\n",
    "for i, age in enumerate(ages):\n",
    "    for j, sex in enumerate(uk.Sex.unique()):\n",
    "        sub = uk[(uk.Age == age) & (uk.Sex == sex)]\n",
    "        sub = sub[sub.Week <= 5 + datetime.date.today().isocalendar()[1]]\n",
    "        sub2020 = sub[sub.Year == 2020]\n",
    "        sub2019 = sub[sub.Year == 2019]\n",
    "        axes[i, j].plot(sub2019.Week, sub2019.Deaths, color = 'b', label='Deaths in 2019')\n",
    "        axes[i, j].plot(sub2020.Week, sub2020.Deaths, color = 'r', label='Deaths in 2020')\n",
    "        \n",
    "        if i == 0:  axes[i, j].set_title(sex)\n",
    "        if j == 0:  axes[i, j].set_ylabel(age)\n",
    "        if i == len(ages) - 1:  axes[i, j].set_xlabel('Week')\n",
    "            \n",
    "fig.suptitle('United Kingdom Deaths by Age and Sex')\n",
    "fig.savefig('../uk_deaths_by_age.png')\n",
    "plt.close()"
   ]
  },
  {
   "cell_type": "markdown",
   "metadata": {},
   "source": [
    "<img src=\"../uk_deaths_by_age.png\">"
   ]
  },
  {
   "cell_type": "markdown",
   "metadata": {},
   "source": [
    "### weekly_dates.csv"
   ]
  },
  {
   "cell_type": "markdown",
   "metadata": {},
   "source": [
    "Week numbers differ by country: in the UK, the week ends on a Friday, in the Netherlands, on a Sunday. They also differ in how they treat the first week of the year."
   ]
  },
  {
   "cell_type": "code",
   "execution_count": null,
   "metadata": {},
   "outputs": [
    {
     "data": {
      "text/html": [
       "<table border=\"1\" class=\"dataframe\">\n",
       "  <thead>\n",
       "    <tr style=\"text-align: right;\">\n",
       "      <th></th>\n",
       "      <th>Country</th>\n",
       "      <th>Year</th>\n",
       "      <th>Week</th>\n",
       "      <th>Start</th>\n",
       "      <th>End</th>\n",
       "    </tr>\n",
       "  </thead>\n",
       "  <tbody>\n",
       "    <tr>\n",
       "      <th>0</th>\n",
       "      <td>Netherlands</td>\n",
       "      <td>2017</td>\n",
       "      <td>0</td>\n",
       "      <td>2017-01-01</td>\n",
       "      <td>2017-01-01</td>\n",
       "    </tr>\n",
       "    <tr>\n",
       "      <th>53</th>\n",
       "      <td>Netherlands</td>\n",
       "      <td>2018</td>\n",
       "      <td>0</td>\n",
       "      <td>2018-01-01</td>\n",
       "      <td>2018-01-07</td>\n",
       "    </tr>\n",
       "    <tr>\n",
       "      <th>106</th>\n",
       "      <td>Netherlands</td>\n",
       "      <td>2019</td>\n",
       "      <td>0</td>\n",
       "      <td>2019-01-01</td>\n",
       "      <td>2019-01-06</td>\n",
       "    </tr>\n",
       "    <tr>\n",
       "      <th>159</th>\n",
       "      <td>Netherlands</td>\n",
       "      <td>2020</td>\n",
       "      <td>0</td>\n",
       "      <td>2020-01-01</td>\n",
       "      <td>2020-01-05</td>\n",
       "    </tr>\n",
       "    <tr>\n",
       "      <th>212</th>\n",
       "      <td>United Kingdom</td>\n",
       "      <td>2017</td>\n",
       "      <td>0</td>\n",
       "      <td>2016-12-31</td>\n",
       "      <td>2017-01-06</td>\n",
       "    </tr>\n",
       "    <tr>\n",
       "      <th>265</th>\n",
       "      <td>United Kingdom</td>\n",
       "      <td>2018</td>\n",
       "      <td>0</td>\n",
       "      <td>2017-12-30</td>\n",
       "      <td>2018-01-05</td>\n",
       "    </tr>\n",
       "    <tr>\n",
       "      <th>318</th>\n",
       "      <td>United Kingdom</td>\n",
       "      <td>2019</td>\n",
       "      <td>0</td>\n",
       "      <td>2018-12-29</td>\n",
       "      <td>2019-01-04</td>\n",
       "    </tr>\n",
       "    <tr>\n",
       "      <th>371</th>\n",
       "      <td>United Kingdom</td>\n",
       "      <td>2020</td>\n",
       "      <td>0</td>\n",
       "      <td>2019-12-28</td>\n",
       "      <td>2020-01-03</td>\n",
       "    </tr>\n",
       "  </tbody>\n",
       "</table>"
      ],
      "text/plain": [
       "<IPython.core.display.HTML object>"
      ]
     },
     "execution_count": null,
     "metadata": {},
     "output_type": "execute_result"
    }
   ],
   "source": [
    "dates = pd.read_csv('../dataset/week_dates.csv')\n",
    "HTML(dates[dates.Week == 0].to_html())"
   ]
  },
  {
   "cell_type": "markdown",
   "metadata": {},
   "source": [
    "## Country Sources"
   ]
  },
  {
   "cell_type": "markdown",
   "metadata": {},
   "source": [
    "### Netherlands\n",
    "\n",
    "Their API wasn't working at the time of writing, however the data access is pretty straightforward on their [website](1052).\n",
    "\n",
    "### United Kingdom\n",
    "\n",
    "The [Office for National Statistics](https://www.ons.gov.uk/peoplepopulationandcommunity/birthsdeathsandmarriages/deaths/datasets/weeklyprovisionalfiguresondeathsregisteredinenglandandwales) provides data for many population subgroups with a 10 day delay.\n",
    "\n",
    "### United States\n",
    "\n",
    "I looked at the data from the [CDC Influenza Surveillance](https://gis.cdc.gov/grasp/fluview/mortality.html) (see [nbs/_021_US.ipynb](nbs/_021_US.ipynb)). \n",
    "\n",
    "However, I choose not to include the data, as the counts were too low -- probably not all deaths were processed yet (despite a \">100%\" flag saying otherwise). Also, there were strange artifacts, like the deaths for New York City being higher than the deaths for New York.\n",
    "\n",
    "If anyone knows an alternative data source for the US, please let me know.\n",
    "\n",
    "### Sweden TODO\n",
    "\n",
    "[Source](https://www.scb.se/en/finding-statistics/statistics-by-subject-area/population/population-composition/population-statistics/#_Tablesandgraphs)"
   ]
  },
  {
   "cell_type": "markdown",
   "metadata": {},
   "source": [
    "## How to contribute"
   ]
  },
  {
   "cell_type": "markdown",
   "metadata": {},
   "source": [
    "If you know data sources for weekly deaths for other countries, please let me know. Either comment on github, or send an email to krisztiankovacs@fastmail.com\n",
    "\n",
    "If you feel like contributing, you can also create a notebook that standardizes the mortality information. Here are the rough steps:\n",
    "1. Create a subfolder under `_downloads` with the country name, and place all downloaded material in there.\n",
    "1. Create a subfolder under `_processed` with the country name, and add two .csv files (see folders for Netherlands and UK):\n",
    "  - week_dates.csv: A spreadsheet with 4 columns giving the year, week number, week start date, week end date\n",
    "  - deaths.csv: A spreadsheet with minimum 3 columns: Year, Week, Deaths. If available, you can also include subgroups by age, sex, region, condition.\n",
    "  \n",
    "Ideally, the whole process is automated in a notebook, from downloading the files, reformatting them, and saving the above two .csv files. Sometimes however, it's easier to download manually. In that case, clearly outline the steps in the notebook on how to update the data in the future, and include and subsequent processing step."
   ]
  },
  {
   "cell_type": "code",
   "execution_count": null,
   "metadata": {},
   "outputs": [],
   "source": []
  }
 ],
 "metadata": {
  "kernelspec": {
   "display_name": "Python 3",
   "language": "python",
   "name": "python3"
  }
 },
 "nbformat": 4,
 "nbformat_minor": 2
}
