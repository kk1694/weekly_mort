{
 "cells": [
  {
   "cell_type": "markdown",
   "metadata": {},
   "source": [
    "# United Kingdom"
   ]
  },
  {
   "cell_type": "code",
   "execution_count": null,
   "metadata": {},
   "outputs": [],
   "source": [
    "import datetime\n",
    "from itertools import repeat\n",
    "\n",
    "import openpyxl\n",
    "import requests\n",
    "\n",
    "import pandas as pd"
   ]
  },
  {
   "cell_type": "code",
   "execution_count": null,
   "metadata": {},
   "outputs": [],
   "source": [
    "from weekly_mort.core import DOWNLOAD_DIR_BASE, PROCESSED_DIR_BASE"
   ]
  },
  {
   "cell_type": "markdown",
   "metadata": {},
   "source": [
    "## Settings"
   ]
  },
  {
   "cell_type": "code",
   "execution_count": null,
   "metadata": {},
   "outputs": [],
   "source": [
    "sub = 'United Kingdom'\n",
    "\n",
    "down_dir = DOWNLOAD_DIR_BASE / sub\n",
    "proc_dir = PROCESSED_DIR_BASE / sub\n",
    "for _dir in [down_dir, proc_dir]:\n",
    "    _dir.mkdir(exist_ok=True, parents=True)"
   ]
  },
  {
   "cell_type": "code",
   "execution_count": null,
   "metadata": {},
   "outputs": [],
   "source": [
    "urls = {2020:'https://www.ons.gov.uk/file?uri=%2fpeoplepopulationandcommunity%2fbirthsdeathsandmarriages%2fdeaths%2fdatasets%2fweeklyprovisionalfiguresondeathsregisteredinenglandandwales%2f2020/publishedweek132020.xlsx',\n",
    "        2019:'https://www.ons.gov.uk/file?uri=%2fpeoplepopulationandcommunity%2fbirthsdeathsandmarriages%2fdeaths%2fdatasets%2fweeklyprovisionalfiguresondeathsregisteredinenglandandwales%2f2019/publishedweek522019.xls',\n",
    "        2018: 'https://www.ons.gov.uk/file?uri=%2fpeoplepopulationandcommunity%2fbirthsdeathsandmarriages%2fdeaths%2fdatasets%2fweeklyprovisionalfiguresondeathsregisteredinenglandandwales%2f2018/publishedweek522018withupdatedrespiratoryrow.xls',\n",
    "        2017: 'https://www.ons.gov.uk/file?uri=%2fpeoplepopulationandcommunity%2fbirthsdeathsandmarriages%2fdeaths%2fdatasets%2fweeklyprovisionalfiguresondeathsregisteredinenglandandwales%2f2017/publishedweek522017.xls'\n",
    "}"
   ]
  },
  {
   "cell_type": "markdown",
   "metadata": {},
   "source": [
    "## Process 2020 deaths"
   ]
  },
  {
   "cell_type": "code",
   "execution_count": null,
   "metadata": {},
   "outputs": [],
   "source": [
    "with open(down_dir/'deaths2020.xlsx', 'wb') as f:\n",
    "    f.write(requests.get(urls[2020]).content)\n",
    "\n",
    "wb = openpyxl.load_workbook(down_dir/'deaths2020.xlsx')\n",
    "sheet = wb['Weekly figures 2020']"
   ]
  },
  {
   "cell_type": "code",
   "execution_count": null,
   "metadata": {},
   "outputs": [],
   "source": [
    "def filter_row(row):\n",
    "    return list(filter(lambda x: x is not None, row[2:]))\n",
    "\n",
    "def get_row_contents(sheet, first_col_val, colcheck = 0):\n",
    "    for row in sheet.values:\n",
    "        if row[colcheck] == first_col_val:\n",
    "            return filter_row(row)"
   ]
  },
  {
   "cell_type": "code",
   "execution_count": null,
   "metadata": {},
   "outputs": [],
   "source": [
    "enddates = get_row_contents(sheet, 'Week ended')\n",
    "\n",
    "deaths = get_row_contents(sheet, 'Total deaths, all ages')\n",
    "\n",
    "resp_deaths = get_row_contents(sheet,\n",
    "                               'Deaths where the underlying cause was respiratory disease (ICD-10 J00-J99)',\n",
    "                               1)\n",
    "\n",
    "assert len(deaths) == len(resp_deaths)"
   ]
  },
  {
   "cell_type": "code",
   "execution_count": null,
   "metadata": {},
   "outputs": [
    {
     "data": {
      "text/html": [
       "<div>\n",
       "<style scoped>\n",
       "    .dataframe tbody tr th:only-of-type {\n",
       "        vertical-align: middle;\n",
       "    }\n",
       "\n",
       "    .dataframe tbody tr th {\n",
       "        vertical-align: top;\n",
       "    }\n",
       "\n",
       "    .dataframe thead th {\n",
       "        text-align: right;\n",
       "    }\n",
       "</style>\n",
       "<table border=\"1\" class=\"dataframe\">\n",
       "  <thead>\n",
       "    <tr style=\"text-align: right;\">\n",
       "      <th></th>\n",
       "      <th>Week</th>\n",
       "      <th>Condition</th>\n",
       "      <th>Deaths</th>\n",
       "      <th>Age</th>\n",
       "      <th>Year</th>\n",
       "      <th>Region</th>\n",
       "      <th>Gender</th>\n",
       "    </tr>\n",
       "  </thead>\n",
       "  <tbody>\n",
       "    <tr>\n",
       "      <th>0</th>\n",
       "      <td>2020-01-03</td>\n",
       "      <td>Total</td>\n",
       "      <td>12254</td>\n",
       "      <td>Total</td>\n",
       "      <td>2020</td>\n",
       "      <td>Total</td>\n",
       "      <td>Total</td>\n",
       "    </tr>\n",
       "    <tr>\n",
       "      <th>1</th>\n",
       "      <td>2020-01-10</td>\n",
       "      <td>Total</td>\n",
       "      <td>14058</td>\n",
       "      <td>Total</td>\n",
       "      <td>2020</td>\n",
       "      <td>Total</td>\n",
       "      <td>Total</td>\n",
       "    </tr>\n",
       "    <tr>\n",
       "      <th>2</th>\n",
       "      <td>2020-01-17</td>\n",
       "      <td>Total</td>\n",
       "      <td>12990</td>\n",
       "      <td>Total</td>\n",
       "      <td>2020</td>\n",
       "      <td>Total</td>\n",
       "      <td>Total</td>\n",
       "    </tr>\n",
       "    <tr>\n",
       "      <th>3</th>\n",
       "      <td>2020-01-24</td>\n",
       "      <td>Total</td>\n",
       "      <td>11856</td>\n",
       "      <td>Total</td>\n",
       "      <td>2020</td>\n",
       "      <td>Total</td>\n",
       "      <td>Total</td>\n",
       "    </tr>\n",
       "    <tr>\n",
       "      <th>4</th>\n",
       "      <td>2020-01-31</td>\n",
       "      <td>Total</td>\n",
       "      <td>11612</td>\n",
       "      <td>Total</td>\n",
       "      <td>2020</td>\n",
       "      <td>Total</td>\n",
       "      <td>Total</td>\n",
       "    </tr>\n",
       "  </tbody>\n",
       "</table>\n",
       "</div>"
      ],
      "text/plain": [
       "        Week Condition  Deaths    Age  Year Region Gender\n",
       "0 2020-01-03     Total   12254  Total  2020  Total  Total\n",
       "1 2020-01-10     Total   14058  Total  2020  Total  Total\n",
       "2 2020-01-17     Total   12990  Total  2020  Total  Total\n",
       "3 2020-01-24     Total   11856  Total  2020  Total  Total\n",
       "4 2020-01-31     Total   11612  Total  2020  Total  Total"
      ]
     },
     "execution_count": null,
     "metadata": {},
     "output_type": "execute_result"
    }
   ],
   "source": [
    "total = pd.DataFrame({'Week':[*enddates[:len(deaths)], *enddates[:len(deaths)]],\n",
    "                      'Condition': [*list(repeat('Total', len(deaths))),\n",
    "                                    *list(repeat('Respiratory', len(deaths)))],\n",
    "                      'Deaths':[*deaths, *resp_deaths]})\n",
    "total['Age'], total['Year'], total['Region'], total['Gender'] = 'Total', 2020, 'Total', 'Total'\n",
    "\n",
    "total.head()"
   ]
  },
  {
   "cell_type": "code",
   "execution_count": null,
   "metadata": {},
   "outputs": [],
   "source": [
    "AGE_LIST = ['Under 1 year', '01-14', '15-44', '45-64', '65-74', '75-84', '85+']"
   ]
  },
  {
   "cell_type": "code",
   "execution_count": null,
   "metadata": {},
   "outputs": [],
   "source": [
    "def _process_section(row_gen, row, gender='Total', year=2020, enddates=enddates):\n",
    "    dfs = []\n",
    "    found_flag = False\n",
    "    while True:\n",
    "        if row[1] in AGE_LIST:\n",
    "            found_flag = True\n",
    "            deaths = filter_row(row)\n",
    "            df = pd.DataFrame({'Week':enddates[: len(deaths)], 'Deaths': deaths})\n",
    "            df['Age'], df['Year'], df['Gender'] = row[1], year, gender\n",
    "            df['Condition'], df['Region'] = 'Total', 'Total'\n",
    "            dfs.append(df)\n",
    "        elif found_flag:\n",
    "            break\n",
    "        row = next(row_gen)\n",
    "    return row, pd.concat(dfs)"
   ]
  },
  {
   "cell_type": "code",
   "execution_count": null,
   "metadata": {},
   "outputs": [
    {
     "data": {
      "text/html": [
       "<div>\n",
       "<style scoped>\n",
       "    .dataframe tbody tr th:only-of-type {\n",
       "        vertical-align: middle;\n",
       "    }\n",
       "\n",
       "    .dataframe tbody tr th {\n",
       "        vertical-align: top;\n",
       "    }\n",
       "\n",
       "    .dataframe thead th {\n",
       "        text-align: right;\n",
       "    }\n",
       "</style>\n",
       "<table border=\"1\" class=\"dataframe\">\n",
       "  <thead>\n",
       "    <tr style=\"text-align: right;\">\n",
       "      <th></th>\n",
       "      <th>Week</th>\n",
       "      <th>Deaths</th>\n",
       "      <th>Age</th>\n",
       "      <th>Year</th>\n",
       "      <th>Gender</th>\n",
       "      <th>Condition</th>\n",
       "      <th>Region</th>\n",
       "    </tr>\n",
       "  </thead>\n",
       "  <tbody>\n",
       "    <tr>\n",
       "      <th>0</th>\n",
       "      <td>2020-01-03</td>\n",
       "      <td>48</td>\n",
       "      <td>Under 1 year</td>\n",
       "      <td>2020</td>\n",
       "      <td>Total</td>\n",
       "      <td>Total</td>\n",
       "      <td>Total</td>\n",
       "    </tr>\n",
       "    <tr>\n",
       "      <th>1</th>\n",
       "      <td>2020-01-10</td>\n",
       "      <td>50</td>\n",
       "      <td>Under 1 year</td>\n",
       "      <td>2020</td>\n",
       "      <td>Total</td>\n",
       "      <td>Total</td>\n",
       "      <td>Total</td>\n",
       "    </tr>\n",
       "    <tr>\n",
       "      <th>2</th>\n",
       "      <td>2020-01-17</td>\n",
       "      <td>69</td>\n",
       "      <td>Under 1 year</td>\n",
       "      <td>2020</td>\n",
       "      <td>Total</td>\n",
       "      <td>Total</td>\n",
       "      <td>Total</td>\n",
       "    </tr>\n",
       "    <tr>\n",
       "      <th>3</th>\n",
       "      <td>2020-01-24</td>\n",
       "      <td>53</td>\n",
       "      <td>Under 1 year</td>\n",
       "      <td>2020</td>\n",
       "      <td>Total</td>\n",
       "      <td>Total</td>\n",
       "      <td>Total</td>\n",
       "    </tr>\n",
       "    <tr>\n",
       "      <th>4</th>\n",
       "      <td>2020-01-31</td>\n",
       "      <td>50</td>\n",
       "      <td>Under 1 year</td>\n",
       "      <td>2020</td>\n",
       "      <td>Total</td>\n",
       "      <td>Total</td>\n",
       "      <td>Total</td>\n",
       "    </tr>\n",
       "  </tbody>\n",
       "</table>\n",
       "</div>"
      ],
      "text/plain": [
       "        Week  Deaths           Age  Year Gender Condition Region\n",
       "0 2020-01-03      48  Under 1 year  2020  Total     Total  Total\n",
       "1 2020-01-10      50  Under 1 year  2020  Total     Total  Total\n",
       "2 2020-01-17      69  Under 1 year  2020  Total     Total  Total\n",
       "3 2020-01-24      53  Under 1 year  2020  Total     Total  Total\n",
       "4 2020-01-31      50  Under 1 year  2020  Total     Total  Total"
      ]
     },
     "execution_count": null,
     "metadata": {},
     "output_type": "execute_result"
    }
   ],
   "source": [
    "gen_ex = sheet.values\n",
    "\n",
    "for row in gen_ex:\n",
    "    if row[1] and ('Persons' in row[1]):\n",
    "        break\n",
    "\n",
    "_, out = _process_section(gen_ex, row)\n",
    "\n",
    "assert len(out) % len(AGE_LIST) == 0\n",
    "\n",
    "out.head()"
   ]
  },
  {
   "cell_type": "code",
   "execution_count": null,
   "metadata": {},
   "outputs": [],
   "source": [
    "def get_age_breakdown(sheet, year=2020, enddates=enddates):\n",
    "    row_gen = sheet.values\n",
    "\n",
    "    dfs = []\n",
    "    pflag, fflag, mflag = [False]*3\n",
    "    row = next(row_gen)\n",
    "\n",
    "    while True:\n",
    "        if row[1]:\n",
    "            if 'Persons' in row[1]:\n",
    "                row, df = _process_section(row_gen, row, 'Total', year, enddates)\n",
    "                dfs.append(df)\n",
    "                pflag = True\n",
    "            if 'Males' in row[1]:\n",
    "                row, df = _process_section(row_gen, row, 'Male', year, enddates)\n",
    "                dfs.append(df)\n",
    "                mflag = True\n",
    "            if 'Females' in row[1]:\n",
    "                row, df = _process_section(row_gen, row, 'Female', year, enddates)\n",
    "                dfs.append(df)\n",
    "                fflag = True\n",
    "        elif pflag and mflag and fflag:\n",
    "            break\n",
    "        row = next(row_gen)\n",
    "    return pd.concat(dfs)"
   ]
  },
  {
   "cell_type": "code",
   "execution_count": null,
   "metadata": {},
   "outputs": [],
   "source": [
    "byages = get_age_breakdown(sheet)"
   ]
  },
  {
   "cell_type": "code",
   "execution_count": null,
   "metadata": {},
   "outputs": [],
   "source": [
    "def get_geographical(sheet, year=2020, enddates=enddates):\n",
    "\n",
    "    found_flag = False\n",
    "    dfs = []\n",
    "\n",
    "    for row in sheet.values:\n",
    "        if row[1] and ('Deaths by region of usual residence' in row[1]):\n",
    "            found_flag = True\n",
    "            continue\n",
    "        elif not found_flag:\n",
    "            continue\n",
    "\n",
    "        if row[1] is None:\n",
    "            break\n",
    "        deaths = filter_row(row)\n",
    "        df = pd.DataFrame({'Week':enddates[: len(deaths)], 'Deaths': deaths})\n",
    "        df['Age'], df['Year'], df['Gender'] = 'Total', year, 'Total'\n",
    "        df['Condition'], df['Region'] = 'Total', row[1]\n",
    "        dfs.append(df)\n",
    "\n",
    "    return pd.concat(dfs)"
   ]
  },
  {
   "cell_type": "code",
   "execution_count": null,
   "metadata": {},
   "outputs": [],
   "source": [
    "bygeo = get_geographical(sheet)"
   ]
  },
  {
   "cell_type": "code",
   "execution_count": null,
   "metadata": {},
   "outputs": [
    {
     "data": {
      "text/html": [
       "<div>\n",
       "<style scoped>\n",
       "    .dataframe tbody tr th:only-of-type {\n",
       "        vertical-align: middle;\n",
       "    }\n",
       "\n",
       "    .dataframe tbody tr th {\n",
       "        vertical-align: top;\n",
       "    }\n",
       "\n",
       "    .dataframe thead th {\n",
       "        text-align: right;\n",
       "    }\n",
       "</style>\n",
       "<table border=\"1\" class=\"dataframe\">\n",
       "  <thead>\n",
       "    <tr style=\"text-align: right;\">\n",
       "      <th></th>\n",
       "      <th>Week</th>\n",
       "      <th>Year</th>\n",
       "      <th>Age</th>\n",
       "      <th>Gender</th>\n",
       "      <th>Condition</th>\n",
       "      <th>Region</th>\n",
       "      <th>Deaths</th>\n",
       "    </tr>\n",
       "  </thead>\n",
       "  <tbody>\n",
       "    <tr>\n",
       "      <th>0</th>\n",
       "      <td>2020-01-03</td>\n",
       "      <td>2020</td>\n",
       "      <td>Total</td>\n",
       "      <td>Total</td>\n",
       "      <td>Total</td>\n",
       "      <td>Total</td>\n",
       "      <td>12254</td>\n",
       "    </tr>\n",
       "    <tr>\n",
       "      <th>1</th>\n",
       "      <td>2020-01-10</td>\n",
       "      <td>2020</td>\n",
       "      <td>Total</td>\n",
       "      <td>Total</td>\n",
       "      <td>Total</td>\n",
       "      <td>Total</td>\n",
       "      <td>14058</td>\n",
       "    </tr>\n",
       "    <tr>\n",
       "      <th>2</th>\n",
       "      <td>2020-01-17</td>\n",
       "      <td>2020</td>\n",
       "      <td>Total</td>\n",
       "      <td>Total</td>\n",
       "      <td>Total</td>\n",
       "      <td>Total</td>\n",
       "      <td>12990</td>\n",
       "    </tr>\n",
       "    <tr>\n",
       "      <th>3</th>\n",
       "      <td>2020-01-24</td>\n",
       "      <td>2020</td>\n",
       "      <td>Total</td>\n",
       "      <td>Total</td>\n",
       "      <td>Total</td>\n",
       "      <td>Total</td>\n",
       "      <td>11856</td>\n",
       "    </tr>\n",
       "    <tr>\n",
       "      <th>4</th>\n",
       "      <td>2020-01-31</td>\n",
       "      <td>2020</td>\n",
       "      <td>Total</td>\n",
       "      <td>Total</td>\n",
       "      <td>Total</td>\n",
       "      <td>Total</td>\n",
       "      <td>11612</td>\n",
       "    </tr>\n",
       "  </tbody>\n",
       "</table>\n",
       "</div>"
      ],
      "text/plain": [
       "        Week  Year    Age Gender Condition Region  Deaths\n",
       "0 2020-01-03  2020  Total  Total     Total  Total   12254\n",
       "1 2020-01-10  2020  Total  Total     Total  Total   14058\n",
       "2 2020-01-17  2020  Total  Total     Total  Total   12990\n",
       "3 2020-01-24  2020  Total  Total     Total  Total   11856\n",
       "4 2020-01-31  2020  Total  Total     Total  Total   11612"
      ]
     },
     "execution_count": null,
     "metadata": {},
     "output_type": "execute_result"
    }
   ],
   "source": [
    "all2020 = pd.concat([total, byages, bygeo], sort=True)\n",
    "\n",
    "assert not any(all2020.isna().sum())\n",
    "\n",
    "cols = ['Week', 'Year', 'Age', 'Gender', 'Condition', 'Region', 'Deaths']\n",
    "all2020 = all2020[cols]\n",
    "\n",
    "all2020.head()"
   ]
  },
  {
   "cell_type": "code",
   "execution_count": null,
   "metadata": {},
   "outputs": [],
   "source": [
    "all2020.to_csv(proc_dir/'deaths2020.csv')"
   ]
  },
  {
   "cell_type": "code",
   "execution_count": null,
   "metadata": {},
   "outputs": [
    {
     "data": {
      "text/plain": [
       "Total     247\n",
       "Female     91\n",
       "Male       91\n",
       "Name: Gender, dtype: int64"
      ]
     },
     "execution_count": null,
     "metadata": {},
     "output_type": "execute_result"
    }
   ],
   "source": [
    "all2020.Gender.value_counts()"
   ]
  },
  {
   "cell_type": "markdown",
   "metadata": {},
   "source": [
    "## Process Previous Years"
   ]
  },
  {
   "cell_type": "code",
   "execution_count": null,
   "metadata": {},
   "outputs": [
    {
     "data": {
      "text/plain": [
       "{2020: 'https://www.ons.gov.uk/file?uri=%2fpeoplepopulationandcommunity%2fbirthsdeathsandmarriages%2fdeaths%2fdatasets%2fweeklyprovisionalfiguresondeathsregisteredinenglandandwales%2f2020/publishedweek132020.xlsx',\n",
       " 2019: 'https://www.ons.gov.uk/file?uri=%2fpeoplepopulationandcommunity%2fbirthsdeathsandmarriages%2fdeaths%2fdatasets%2fweeklyprovisionalfiguresondeathsregisteredinenglandandwales%2f2019/publishedweek522019.xls',\n",
       " 2018: 'https://www.ons.gov.uk/file?uri=%2fpeoplepopulationandcommunity%2fbirthsdeathsandmarriages%2fdeaths%2fdatasets%2fweeklyprovisionalfiguresondeathsregisteredinenglandandwales%2f2018/publishedweek522018withupdatedrespiratoryrow.xls',\n",
       " 2017: 'https://www.ons.gov.uk/file?uri=%2fpeoplepopulationandcommunity%2fbirthsdeathsandmarriages%2fdeaths%2fdatasets%2fweeklyprovisionalfiguresondeathsregisteredinenglandandwales%2f2017/publishedweek522017.xls'}"
      ]
     },
     "execution_count": null,
     "metadata": {},
     "output_type": "execute_result"
    }
   ],
   "source": [
    "urls"
   ]
  },
  {
   "cell_type": "code",
   "execution_count": null,
   "metadata": {},
   "outputs": [],
   "source": [
    "import xlrd\n",
    "from openpyxl.workbook import Workbook\n",
    "\n",
    "def cvt_xls_to_xlsx(src_file_path, dst_file_path):\n",
    "    '''\n",
    "    From https://stackoverflow.com/questions/9918646/how-to-convert-xls-to-xlsx/42574983#42574983\n",
    "    '''\n",
    "    book_xls = xlrd.open_workbook(src_file_path)\n",
    "    book_xlsx = Workbook()\n",
    "\n",
    "    sheet_names = book_xls.sheet_names()\n",
    "    for sheet_index, sheet_name in enumerate(sheet_names):\n",
    "        sheet_xls = book_xls.sheet_by_name(sheet_name)\n",
    "        if sheet_index == 0:\n",
    "            sheet_xlsx = book_xlsx.active\n",
    "            sheet_xlsx.title = sheet_name\n",
    "        else:\n",
    "            sheet_xlsx = book_xlsx.create_sheet(title=sheet_name)\n",
    "\n",
    "        for row in range(0, sheet_xls.nrows):\n",
    "            for col in range(0, sheet_xls.ncols):\n",
    "                sheet_xlsx.cell(row = row+1 , column = col+1).value = sheet_xls.cell_value(row, col)\n",
    "\n",
    "    book_xlsx.save(dst_file_path)"
   ]
  },
  {
   "cell_type": "code",
   "execution_count": null,
   "metadata": {},
   "outputs": [],
   "source": [
    "years = list(range(2017, 2020))"
   ]
  },
  {
   "cell_type": "code",
   "execution_count": null,
   "metadata": {},
   "outputs": [
    {
     "ename": "FileNotFoundError",
     "evalue": "[Errno 2] No such file or directory: '../_downloads/United Kingdom/deaths2017.xls'",
     "output_type": "error",
     "traceback": [
      "\u001b[0;31m---------------------------------------------------------------------------\u001b[0m",
      "\u001b[0;31mFileNotFoundError\u001b[0m                         Traceback (most recent call last)",
      "\u001b[0;32m<ipython-input-21-5f6281e943be>\u001b[0m in \u001b[0;36m<module>\u001b[0;34m\u001b[0m\n\u001b[1;32m      1\u001b[0m \u001b[0;32mfor\u001b[0m \u001b[0myear\u001b[0m \u001b[0;32min\u001b[0m \u001b[0myears\u001b[0m\u001b[0;34m:\u001b[0m\u001b[0;34m\u001b[0m\u001b[0;34m\u001b[0m\u001b[0m\n\u001b[0;32m----> 2\u001b[0;31m     \u001b[0mcvt_xls_to_xlsx\u001b[0m\u001b[0;34m(\u001b[0m\u001b[0mdown_dir\u001b[0m\u001b[0;34m/\u001b[0m\u001b[0;34mf'deaths{year}.xls'\u001b[0m\u001b[0;34m,\u001b[0m \u001b[0mdown_dir\u001b[0m\u001b[0;34m/\u001b[0m\u001b[0;34mf'deaths{year}.xlsx'\u001b[0m\u001b[0;34m)\u001b[0m\u001b[0;34m\u001b[0m\u001b[0;34m\u001b[0m\u001b[0m\n\u001b[0m",
      "\u001b[0;32m<ipython-input-19-27a8662b7781>\u001b[0m in \u001b[0;36mcvt_xls_to_xlsx\u001b[0;34m(src_file_path, dst_file_path)\u001b[0m\n\u001b[1;32m      6\u001b[0m     \u001b[0mFrom\u001b[0m \u001b[0mhttps\u001b[0m\u001b[0;34m:\u001b[0m\u001b[0;34m//\u001b[0m\u001b[0mstackoverflow\u001b[0m\u001b[0;34m.\u001b[0m\u001b[0mcom\u001b[0m\u001b[0;34m/\u001b[0m\u001b[0mquestions\u001b[0m\u001b[0;34m/\u001b[0m\u001b[0;36m9918646\u001b[0m\u001b[0;34m/\u001b[0m\u001b[0mhow\u001b[0m\u001b[0;34m-\u001b[0m\u001b[0mto\u001b[0m\u001b[0;34m-\u001b[0m\u001b[0mconvert\u001b[0m\u001b[0;34m-\u001b[0m\u001b[0mxls\u001b[0m\u001b[0;34m-\u001b[0m\u001b[0mto\u001b[0m\u001b[0;34m-\u001b[0m\u001b[0mxlsx\u001b[0m\u001b[0;34m/\u001b[0m\u001b[0;36m42574983\u001b[0m\u001b[0;31m#42574983\u001b[0m\u001b[0;34m\u001b[0m\u001b[0;34m\u001b[0m\u001b[0m\n\u001b[1;32m      7\u001b[0m     '''\n\u001b[0;32m----> 8\u001b[0;31m     \u001b[0mbook_xls\u001b[0m \u001b[0;34m=\u001b[0m \u001b[0mxlrd\u001b[0m\u001b[0;34m.\u001b[0m\u001b[0mopen_workbook\u001b[0m\u001b[0;34m(\u001b[0m\u001b[0msrc_file_path\u001b[0m\u001b[0;34m)\u001b[0m\u001b[0;34m\u001b[0m\u001b[0;34m\u001b[0m\u001b[0m\n\u001b[0m\u001b[1;32m      9\u001b[0m     \u001b[0mbook_xlsx\u001b[0m \u001b[0;34m=\u001b[0m \u001b[0mWorkbook\u001b[0m\u001b[0;34m(\u001b[0m\u001b[0;34m)\u001b[0m\u001b[0;34m\u001b[0m\u001b[0;34m\u001b[0m\u001b[0m\n\u001b[1;32m     10\u001b[0m \u001b[0;34m\u001b[0m\u001b[0m\n",
      "\u001b[0;32m~/anaconda3/lib/python3.7/site-packages/xlrd/__init__.py\u001b[0m in \u001b[0;36mopen_workbook\u001b[0;34m(filename, logfile, verbosity, use_mmap, file_contents, encoding_override, formatting_info, on_demand, ragged_rows)\u001b[0m\n\u001b[1;32m    109\u001b[0m     \u001b[0;32melse\u001b[0m\u001b[0;34m:\u001b[0m\u001b[0;34m\u001b[0m\u001b[0;34m\u001b[0m\u001b[0m\n\u001b[1;32m    110\u001b[0m         \u001b[0mfilename\u001b[0m \u001b[0;34m=\u001b[0m \u001b[0mos\u001b[0m\u001b[0;34m.\u001b[0m\u001b[0mpath\u001b[0m\u001b[0;34m.\u001b[0m\u001b[0mexpanduser\u001b[0m\u001b[0;34m(\u001b[0m\u001b[0mfilename\u001b[0m\u001b[0;34m)\u001b[0m\u001b[0;34m\u001b[0m\u001b[0;34m\u001b[0m\u001b[0m\n\u001b[0;32m--> 111\u001b[0;31m         \u001b[0;32mwith\u001b[0m \u001b[0mopen\u001b[0m\u001b[0;34m(\u001b[0m\u001b[0mfilename\u001b[0m\u001b[0;34m,\u001b[0m \u001b[0;34m\"rb\"\u001b[0m\u001b[0;34m)\u001b[0m \u001b[0;32mas\u001b[0m \u001b[0mf\u001b[0m\u001b[0;34m:\u001b[0m\u001b[0;34m\u001b[0m\u001b[0;34m\u001b[0m\u001b[0m\n\u001b[0m\u001b[1;32m    112\u001b[0m             \u001b[0mpeek\u001b[0m \u001b[0;34m=\u001b[0m \u001b[0mf\u001b[0m\u001b[0;34m.\u001b[0m\u001b[0mread\u001b[0m\u001b[0;34m(\u001b[0m\u001b[0mpeeksz\u001b[0m\u001b[0;34m)\u001b[0m\u001b[0;34m\u001b[0m\u001b[0;34m\u001b[0m\u001b[0m\n\u001b[1;32m    113\u001b[0m     \u001b[0;32mif\u001b[0m \u001b[0mpeek\u001b[0m \u001b[0;34m==\u001b[0m \u001b[0;34mb\"PK\\x03\\x04\"\u001b[0m\u001b[0;34m:\u001b[0m \u001b[0;31m# a ZIP file\u001b[0m\u001b[0;34m\u001b[0m\u001b[0;34m\u001b[0m\u001b[0m\n",
      "\u001b[0;31mFileNotFoundError\u001b[0m: [Errno 2] No such file or directory: '../_downloads/United Kingdom/deaths2017.xls'"
     ]
    }
   ],
   "source": [
    "for year in years:\n",
    "    cvt_xls_to_xlsx(down_dir/f'deaths{year}.xls', down_dir/f'deaths{year}.xlsx')"
   ]
  },
  {
   "cell_type": "code",
   "execution_count": null,
   "metadata": {},
   "outputs": [
    {
     "ename": "FileNotFoundError",
     "evalue": "[Errno 2] No such file or directory: '../_downloads/United Kingdom/deaths2017.xlsx'",
     "output_type": "error",
     "traceback": [
      "\u001b[0;31m---------------------------------------------------------------------------\u001b[0m",
      "\u001b[0;31mFileNotFoundError\u001b[0m                         Traceback (most recent call last)",
      "\u001b[0;32m<ipython-input-22-712fd838247b>\u001b[0m in \u001b[0;36m<module>\u001b[0;34m\u001b[0m\n\u001b[0;32m----> 1\u001b[0;31m \u001b[0mwbs\u001b[0m \u001b[0;34m=\u001b[0m \u001b[0;34m[\u001b[0m\u001b[0mopenpyxl\u001b[0m\u001b[0;34m.\u001b[0m\u001b[0mload_workbook\u001b[0m\u001b[0;34m(\u001b[0m\u001b[0mdown_dir\u001b[0m\u001b[0;34m/\u001b[0m\u001b[0;34mf'deaths{year}.xlsx'\u001b[0m\u001b[0;34m)\u001b[0m \u001b[0;32mfor\u001b[0m \u001b[0myear\u001b[0m \u001b[0;32min\u001b[0m \u001b[0myears\u001b[0m\u001b[0;34m]\u001b[0m\u001b[0;34m\u001b[0m\u001b[0;34m\u001b[0m\u001b[0m\n\u001b[0m\u001b[1;32m      2\u001b[0m \u001b[0;34m\u001b[0m\u001b[0m\n\u001b[1;32m      3\u001b[0m \u001b[0msheetnames\u001b[0m \u001b[0;34m=\u001b[0m \u001b[0;34m[\u001b[0m\u001b[0;34mf'Weekly figures {y}'\u001b[0m \u001b[0;32mfor\u001b[0m \u001b[0my\u001b[0m \u001b[0;32min\u001b[0m \u001b[0myears\u001b[0m\u001b[0;34m]\u001b[0m\u001b[0;34m\u001b[0m\u001b[0;34m\u001b[0m\u001b[0m\n\u001b[1;32m      4\u001b[0m \u001b[0;34m\u001b[0m\u001b[0m\n\u001b[1;32m      5\u001b[0m \u001b[0msheets\u001b[0m \u001b[0;34m=\u001b[0m \u001b[0;34m[\u001b[0m\u001b[0mwb\u001b[0m\u001b[0;34m[\u001b[0m\u001b[0mshname\u001b[0m\u001b[0;34m]\u001b[0m \u001b[0;32mfor\u001b[0m \u001b[0mwb\u001b[0m\u001b[0;34m,\u001b[0m \u001b[0mshname\u001b[0m \u001b[0;32min\u001b[0m \u001b[0mzip\u001b[0m\u001b[0;34m(\u001b[0m\u001b[0mwbs\u001b[0m\u001b[0;34m,\u001b[0m \u001b[0msheetnames\u001b[0m\u001b[0;34m)\u001b[0m\u001b[0;34m]\u001b[0m\u001b[0;34m\u001b[0m\u001b[0;34m\u001b[0m\u001b[0m\n",
      "\u001b[0;32m<ipython-input-22-712fd838247b>\u001b[0m in \u001b[0;36m<listcomp>\u001b[0;34m(.0)\u001b[0m\n\u001b[0;32m----> 1\u001b[0;31m \u001b[0mwbs\u001b[0m \u001b[0;34m=\u001b[0m \u001b[0;34m[\u001b[0m\u001b[0mopenpyxl\u001b[0m\u001b[0;34m.\u001b[0m\u001b[0mload_workbook\u001b[0m\u001b[0;34m(\u001b[0m\u001b[0mdown_dir\u001b[0m\u001b[0;34m/\u001b[0m\u001b[0;34mf'deaths{year}.xlsx'\u001b[0m\u001b[0;34m)\u001b[0m \u001b[0;32mfor\u001b[0m \u001b[0myear\u001b[0m \u001b[0;32min\u001b[0m \u001b[0myears\u001b[0m\u001b[0;34m]\u001b[0m\u001b[0;34m\u001b[0m\u001b[0;34m\u001b[0m\u001b[0m\n\u001b[0m\u001b[1;32m      2\u001b[0m \u001b[0;34m\u001b[0m\u001b[0m\n\u001b[1;32m      3\u001b[0m \u001b[0msheetnames\u001b[0m \u001b[0;34m=\u001b[0m \u001b[0;34m[\u001b[0m\u001b[0;34mf'Weekly figures {y}'\u001b[0m \u001b[0;32mfor\u001b[0m \u001b[0my\u001b[0m \u001b[0;32min\u001b[0m \u001b[0myears\u001b[0m\u001b[0;34m]\u001b[0m\u001b[0;34m\u001b[0m\u001b[0;34m\u001b[0m\u001b[0m\n\u001b[1;32m      4\u001b[0m \u001b[0;34m\u001b[0m\u001b[0m\n\u001b[1;32m      5\u001b[0m \u001b[0msheets\u001b[0m \u001b[0;34m=\u001b[0m \u001b[0;34m[\u001b[0m\u001b[0mwb\u001b[0m\u001b[0;34m[\u001b[0m\u001b[0mshname\u001b[0m\u001b[0;34m]\u001b[0m \u001b[0;32mfor\u001b[0m \u001b[0mwb\u001b[0m\u001b[0;34m,\u001b[0m \u001b[0mshname\u001b[0m \u001b[0;32min\u001b[0m \u001b[0mzip\u001b[0m\u001b[0;34m(\u001b[0m\u001b[0mwbs\u001b[0m\u001b[0;34m,\u001b[0m \u001b[0msheetnames\u001b[0m\u001b[0;34m)\u001b[0m\u001b[0;34m]\u001b[0m\u001b[0;34m\u001b[0m\u001b[0;34m\u001b[0m\u001b[0m\n",
      "\u001b[0;32m~/anaconda3/lib/python3.7/site-packages/openpyxl/reader/excel.py\u001b[0m in \u001b[0;36mload_workbook\u001b[0;34m(filename, read_only, keep_vba, data_only, keep_links)\u001b[0m\n\u001b[1;32m    311\u001b[0m     \"\"\"\n\u001b[1;32m    312\u001b[0m     reader = ExcelReader(filename, read_only, keep_vba,\n\u001b[0;32m--> 313\u001b[0;31m                         data_only, keep_links)\n\u001b[0m\u001b[1;32m    314\u001b[0m     \u001b[0mreader\u001b[0m\u001b[0;34m.\u001b[0m\u001b[0mread\u001b[0m\u001b[0;34m(\u001b[0m\u001b[0;34m)\u001b[0m\u001b[0;34m\u001b[0m\u001b[0;34m\u001b[0m\u001b[0m\n\u001b[1;32m    315\u001b[0m     \u001b[0;32mreturn\u001b[0m \u001b[0mreader\u001b[0m\u001b[0;34m.\u001b[0m\u001b[0mwb\u001b[0m\u001b[0;34m\u001b[0m\u001b[0;34m\u001b[0m\u001b[0m\n",
      "\u001b[0;32m~/anaconda3/lib/python3.7/site-packages/openpyxl/reader/excel.py\u001b[0m in \u001b[0;36m__init__\u001b[0;34m(self, fn, read_only, keep_vba, data_only, keep_links)\u001b[0m\n\u001b[1;32m    122\u001b[0m     def __init__(self,  fn, read_only=False, keep_vba=KEEP_VBA,\n\u001b[1;32m    123\u001b[0m                   data_only=False, keep_links=True):\n\u001b[0;32m--> 124\u001b[0;31m         \u001b[0mself\u001b[0m\u001b[0;34m.\u001b[0m\u001b[0marchive\u001b[0m \u001b[0;34m=\u001b[0m \u001b[0m_validate_archive\u001b[0m\u001b[0;34m(\u001b[0m\u001b[0mfn\u001b[0m\u001b[0;34m)\u001b[0m\u001b[0;34m\u001b[0m\u001b[0;34m\u001b[0m\u001b[0m\n\u001b[0m\u001b[1;32m    125\u001b[0m         \u001b[0mself\u001b[0m\u001b[0;34m.\u001b[0m\u001b[0mvalid_files\u001b[0m \u001b[0;34m=\u001b[0m \u001b[0mself\u001b[0m\u001b[0;34m.\u001b[0m\u001b[0marchive\u001b[0m\u001b[0;34m.\u001b[0m\u001b[0mnamelist\u001b[0m\u001b[0;34m(\u001b[0m\u001b[0;34m)\u001b[0m\u001b[0;34m\u001b[0m\u001b[0;34m\u001b[0m\u001b[0m\n\u001b[1;32m    126\u001b[0m         \u001b[0mself\u001b[0m\u001b[0;34m.\u001b[0m\u001b[0mread_only\u001b[0m \u001b[0;34m=\u001b[0m \u001b[0mread_only\u001b[0m\u001b[0;34m\u001b[0m\u001b[0;34m\u001b[0m\u001b[0m\n",
      "\u001b[0;32m~/anaconda3/lib/python3.7/site-packages/openpyxl/reader/excel.py\u001b[0m in \u001b[0;36m_validate_archive\u001b[0;34m(filename)\u001b[0m\n\u001b[1;32m     94\u001b[0m             \u001b[0;32mraise\u001b[0m \u001b[0mInvalidFileException\u001b[0m\u001b[0;34m(\u001b[0m\u001b[0mmsg\u001b[0m\u001b[0;34m)\u001b[0m\u001b[0;34m\u001b[0m\u001b[0;34m\u001b[0m\u001b[0m\n\u001b[1;32m     95\u001b[0m \u001b[0;34m\u001b[0m\u001b[0m\n\u001b[0;32m---> 96\u001b[0;31m     \u001b[0marchive\u001b[0m \u001b[0;34m=\u001b[0m \u001b[0mZipFile\u001b[0m\u001b[0;34m(\u001b[0m\u001b[0mfilename\u001b[0m\u001b[0;34m,\u001b[0m \u001b[0;34m'r'\u001b[0m\u001b[0;34m)\u001b[0m\u001b[0;34m\u001b[0m\u001b[0;34m\u001b[0m\u001b[0m\n\u001b[0m\u001b[1;32m     97\u001b[0m     \u001b[0;32mreturn\u001b[0m \u001b[0marchive\u001b[0m\u001b[0;34m\u001b[0m\u001b[0;34m\u001b[0m\u001b[0m\n\u001b[1;32m     98\u001b[0m \u001b[0;34m\u001b[0m\u001b[0m\n",
      "\u001b[0;32m~/anaconda3/lib/python3.7/zipfile.py\u001b[0m in \u001b[0;36m__init__\u001b[0;34m(self, file, mode, compression, allowZip64, compresslevel)\u001b[0m\n\u001b[1;32m   1205\u001b[0m             \u001b[0;32mwhile\u001b[0m \u001b[0;32mTrue\u001b[0m\u001b[0;34m:\u001b[0m\u001b[0;34m\u001b[0m\u001b[0;34m\u001b[0m\u001b[0m\n\u001b[1;32m   1206\u001b[0m                 \u001b[0;32mtry\u001b[0m\u001b[0;34m:\u001b[0m\u001b[0;34m\u001b[0m\u001b[0;34m\u001b[0m\u001b[0m\n\u001b[0;32m-> 1207\u001b[0;31m                     \u001b[0mself\u001b[0m\u001b[0;34m.\u001b[0m\u001b[0mfp\u001b[0m \u001b[0;34m=\u001b[0m \u001b[0mio\u001b[0m\u001b[0;34m.\u001b[0m\u001b[0mopen\u001b[0m\u001b[0;34m(\u001b[0m\u001b[0mfile\u001b[0m\u001b[0;34m,\u001b[0m \u001b[0mfilemode\u001b[0m\u001b[0;34m)\u001b[0m\u001b[0;34m\u001b[0m\u001b[0;34m\u001b[0m\u001b[0m\n\u001b[0m\u001b[1;32m   1208\u001b[0m                 \u001b[0;32mexcept\u001b[0m \u001b[0mOSError\u001b[0m\u001b[0;34m:\u001b[0m\u001b[0;34m\u001b[0m\u001b[0;34m\u001b[0m\u001b[0m\n\u001b[1;32m   1209\u001b[0m                     \u001b[0;32mif\u001b[0m \u001b[0mfilemode\u001b[0m \u001b[0;32min\u001b[0m \u001b[0mmodeDict\u001b[0m\u001b[0;34m:\u001b[0m\u001b[0;34m\u001b[0m\u001b[0;34m\u001b[0m\u001b[0m\n",
      "\u001b[0;31mFileNotFoundError\u001b[0m: [Errno 2] No such file or directory: '../_downloads/United Kingdom/deaths2017.xlsx'"
     ]
    }
   ],
   "source": [
    "wbs = [openpyxl.load_workbook(down_dir/f'deaths{year}.xlsx') for year in years]\n",
    "\n",
    "sheetnames = [f'Weekly figures {y}' for y in years]\n",
    "\n",
    "sheets = [wb[shname] for wb, shname in zip(wbs, sheetnames)]"
   ]
  },
  {
   "cell_type": "code",
   "execution_count": null,
   "metadata": {},
   "outputs": [],
   "source": [
    "def conv2date(xldate, datemode=0):\n",
    "    '''\n",
    "    from https://stackoverflow.com/questions/1108428/how-do-i-read-a-date-in-excel-format-in-python\n",
    "    '''\n",
    "    # datemode: 0 for 1900-based, 1 for 1904-based\n",
    "    return (\n",
    "        datetime.datetime(1899, 12, 30)\n",
    "        + datetime.timedelta(days=xldate + 1462 * datemode)\n",
    "        )"
   ]
  },
  {
   "cell_type": "code",
   "execution_count": null,
   "metadata": {},
   "outputs": [],
   "source": [
    "_conv_dates = lambda x: [conv2date(y) for y in x]\n",
    "\n",
    "enddates = [_conv_dates(get_row_contents(sh, 'Week ended')) for sh in sheets]"
   ]
  },
  {
   "cell_type": "code",
   "execution_count": null,
   "metadata": {},
   "outputs": [],
   "source": [
    "byage = [get_age_breakdown(sh, y, end) for sh, y, end in zip(sheets, years, enddates)]\n",
    "\n",
    "bygeo = [get_geographical(sh, y, end) for sh, y, end in zip(sheets, years, enddates)]"
   ]
  },
  {
   "cell_type": "code",
   "execution_count": null,
   "metadata": {},
   "outputs": [],
   "source": [
    "def get_totals(sheet, year, enddates):\n",
    "    deaths = get_row_contents(sheet, 'Total deaths, all ages')\n",
    "    \n",
    "    resp_deaths = get_row_contents(sheet,\n",
    "                               'All respiratory diseases (ICD-10 J00-J99)\\nICD-10 v 2013 (IRIS)',\n",
    "                               1)\n",
    "    \n",
    "    total = pd.DataFrame({'Week':[*enddates[:len(deaths)], *enddates[:len(deaths)]],\n",
    "                          'Condition': [*list(repeat('Total', len(deaths))),\n",
    "                                        *list(repeat('Respiratory', len(deaths)))],\n",
    "                          'Deaths':[*deaths, *resp_deaths]})\n",
    "    total['Age'], total['Year'], total['Region'], total['Gender'] = 'Total', 2020, 'Total', 'Total'\n",
    "    return total"
   ]
  },
  {
   "cell_type": "code",
   "execution_count": null,
   "metadata": {},
   "outputs": [],
   "source": [
    "totals = [get_totals(sh, y, end) for sh, y, end in zip(sheets, years, enddates)]"
   ]
  },
  {
   "cell_type": "code",
   "execution_count": null,
   "metadata": {},
   "outputs": [],
   "source": [
    "all_dfs = [pd.concat([t, a, g], sort=True) for t, a, g in zip(totals, byage, bygeo)]\n",
    "\n",
    "all_dfs = [df[cols] for df in all_dfs]"
   ]
  },
  {
   "cell_type": "code",
   "execution_count": null,
   "metadata": {},
   "outputs": [],
   "source": [
    "for year, df in zip(years, all_dfs):\n",
    "    df.to_csv(proc_dir/f'deaths{year}.csv')"
   ]
  },
  {
   "cell_type": "code",
   "execution_count": null,
   "metadata": {},
   "outputs": [],
   "source": []
  }
 ],
 "metadata": {
  "kernelspec": {
   "display_name": "Python 3",
   "language": "python",
   "name": "python3"
  }
 },
 "nbformat": 4,
 "nbformat_minor": 4
}
