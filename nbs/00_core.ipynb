{
 "cells": [
  {
   "cell_type": "code",
   "execution_count": null,
   "metadata": {},
   "outputs": [],
   "source": [
    "# default_exp core"
   ]
  },
  {
   "cell_type": "markdown",
   "metadata": {},
   "source": [
    "# Core functions\n",
    "\n",
    "> Variables and methods we'll use throughout"
   ]
  },
  {
   "cell_type": "code",
   "execution_count": null,
   "metadata": {},
   "outputs": [],
   "source": [
    "#export\n",
    "import datetime\n",
    "import itertools\n",
    "from pathlib import Path\n",
    "\n",
    "import pandas as pd"
   ]
  },
  {
   "cell_type": "markdown",
   "metadata": {},
   "source": [
    "## Paths"
   ]
  },
  {
   "cell_type": "code",
   "execution_count": null,
   "metadata": {},
   "outputs": [],
   "source": [
    "#export\n",
    "DOWNLOAD_DIR_BASE = Path('../_downloads')\n",
    "PROCESSED_DIR_BASE = Path('../_processed')"
   ]
  },
  {
   "cell_type": "code",
   "execution_count": null,
   "metadata": {},
   "outputs": [],
   "source": [
    "for directory in [DOWNLOAD_DIR_BASE, PROCESSED_DIR_BASE]:\n",
    "    directory.mkdir(exist_ok=True, parents=True)"
   ]
  },
  {
   "cell_type": "code",
   "execution_count": null,
   "metadata": {},
   "outputs": [],
   "source": [
    "#export\n",
    "def create_country_dirs(country):\n",
    "\n",
    "    down_dir = DOWNLOAD_DIR_BASE / country\n",
    "    proc_dir = PROCESSED_DIR_BASE / country\n",
    "    for _dir in [down_dir, proc_dir]:\n",
    "        _dir.mkdir(exist_ok=True, parents=True)\n",
    "    return down_dir, proc_dir"
   ]
  },
  {
   "cell_type": "markdown",
   "metadata": {},
   "source": [
    "## Week start and end dates"
   ]
  },
  {
   "cell_type": "code",
   "execution_count": null,
   "metadata": {},
   "outputs": [],
   "source": [
    "#export\n",
    "def _next_weekday(date, weekday=6):\n",
    "    '''\n",
    "    Returns date of next specified weekday. 0 - Monday, 6 - Sunday.\n",
    "    '''\n",
    "    while True:\n",
    "        if date.weekday() == weekday:\n",
    "            return date\n",
    "        date += datetime.timedelta(1)"
   ]
  },
  {
   "cell_type": "code",
   "execution_count": null,
   "metadata": {},
   "outputs": [],
   "source": [
    "assert datetime.date(2020, 1, 5) == _next_weekday(datetime.date(2020, 1, 1))"
   ]
  },
  {
   "cell_type": "code",
   "execution_count": null,
   "metadata": {},
   "outputs": [],
   "source": [
    "#export\n",
    "def gen_weekdates(year, start=None, week_end=6):\n",
    "    '''\n",
    "    Generates start and end dates for a given year.\n",
    "    '''\n",
    "    if start is None:\n",
    "        start = datetime.date(year, 1, 1)\n",
    "    week = 0\n",
    "    end = _next_weekday(start, week_end)\n",
    "    \n",
    "    assert end.year == year\n",
    "\n",
    "    while True:\n",
    "        \n",
    "        yield year, week, start, end\n",
    "        week += 1\n",
    "        \n",
    "        start = end + datetime.timedelta(1)\n",
    "        end = start + datetime.timedelta(6)\n",
    "        \n",
    "        if start.year != year:\n",
    "            break\n",
    "        \n",
    "        if end.year != year:\n",
    "            end = datetime.date(year, 12, 31)\n"
   ]
  },
  {
   "cell_type": "code",
   "execution_count": null,
   "metadata": {},
   "outputs": [],
   "source": [
    "# export\n",
    "STANDARD_WEEK = pd.DataFrame(itertools.chain(*[gen_weekdates(year) for year in range(2017, 2021)]))\n",
    "\n",
    "STANDARD_WEEK.columns = ['Year', 'Week', 'Start', 'End']"
   ]
  },
  {
   "cell_type": "code",
   "execution_count": null,
   "metadata": {},
   "outputs": [
    {
     "data": {
      "text/html": [
       "<div>\n",
       "<style scoped>\n",
       "    .dataframe tbody tr th:only-of-type {\n",
       "        vertical-align: middle;\n",
       "    }\n",
       "\n",
       "    .dataframe tbody tr th {\n",
       "        vertical-align: top;\n",
       "    }\n",
       "\n",
       "    .dataframe thead th {\n",
       "        text-align: right;\n",
       "    }\n",
       "</style>\n",
       "<table border=\"1\" class=\"dataframe\">\n",
       "  <thead>\n",
       "    <tr style=\"text-align: right;\">\n",
       "      <th></th>\n",
       "      <th>Year</th>\n",
       "      <th>Week</th>\n",
       "      <th>Start</th>\n",
       "      <th>End</th>\n",
       "    </tr>\n",
       "  </thead>\n",
       "  <tbody>\n",
       "    <tr>\n",
       "      <th>0</th>\n",
       "      <td>2017</td>\n",
       "      <td>0</td>\n",
       "      <td>2017-01-01</td>\n",
       "      <td>2017-01-01</td>\n",
       "    </tr>\n",
       "    <tr>\n",
       "      <th>1</th>\n",
       "      <td>2017</td>\n",
       "      <td>1</td>\n",
       "      <td>2017-01-02</td>\n",
       "      <td>2017-01-08</td>\n",
       "    </tr>\n",
       "    <tr>\n",
       "      <th>2</th>\n",
       "      <td>2017</td>\n",
       "      <td>2</td>\n",
       "      <td>2017-01-09</td>\n",
       "      <td>2017-01-15</td>\n",
       "    </tr>\n",
       "    <tr>\n",
       "      <th>3</th>\n",
       "      <td>2017</td>\n",
       "      <td>3</td>\n",
       "      <td>2017-01-16</td>\n",
       "      <td>2017-01-22</td>\n",
       "    </tr>\n",
       "    <tr>\n",
       "      <th>4</th>\n",
       "      <td>2017</td>\n",
       "      <td>4</td>\n",
       "      <td>2017-01-23</td>\n",
       "      <td>2017-01-29</td>\n",
       "    </tr>\n",
       "  </tbody>\n",
       "</table>\n",
       "</div>"
      ],
      "text/plain": [
       "   Year  Week       Start         End\n",
       "0  2017     0  2017-01-01  2017-01-01\n",
       "1  2017     1  2017-01-02  2017-01-08\n",
       "2  2017     2  2017-01-09  2017-01-15\n",
       "3  2017     3  2017-01-16  2017-01-22\n",
       "4  2017     4  2017-01-23  2017-01-29"
      ]
     },
     "execution_count": null,
     "metadata": {},
     "output_type": "execute_result"
    }
   ],
   "source": [
    "STANDARD_WEEK.head()"
   ]
  },
  {
   "cell_type": "markdown",
   "metadata": {},
   "source": [
    "Checking that the durations of the first and last weeks are correct"
   ]
  },
  {
   "cell_type": "code",
   "execution_count": null,
   "metadata": {},
   "outputs": [],
   "source": [
    "durations = (STANDARD_WEEK.End - STANDARD_WEEK.Start).apply(lambda x: x.days + 1)\n",
    "\n",
    "def _get_duration(year, week):\n",
    "    sub = durations[(STANDARD_WEEK.Year == year) & (STANDARD_WEEK.Week == week)]\n",
    "    assert len(sub) == 1\n",
    "    return sub.iloc[0]\n",
    "\n",
    "assert _get_duration(2017, 0) == 1\n",
    "assert _get_duration(2017, 52) == 7\n",
    "\n",
    "assert _get_duration(2018, 0) == 7\n",
    "assert _get_duration(2018, 52) == 1\n",
    "\n",
    "assert _get_duration(2019, 0) == 6\n",
    "assert _get_duration(2019, 52) == 2\n",
    "\n",
    "assert _get_duration(2020, 0) == 5\n",
    "assert _get_duration(2020, 52) == 4"
   ]
  },
  {
   "cell_type": "markdown",
   "metadata": {},
   "source": [
    "## Convert"
   ]
  },
  {
   "cell_type": "code",
   "execution_count": null,
   "metadata": {},
   "outputs": [
    {
     "name": "stdout",
     "output_type": "stream",
     "text": [
      "Converted 00_core.ipynb.\n",
      "Converted index.ipynb.\n"
     ]
    }
   ],
   "source": [
    "from nbdev.export import *\n",
    "notebook2script()"
   ]
  },
  {
   "cell_type": "code",
   "execution_count": null,
   "metadata": {},
   "outputs": [],
   "source": []
  }
 ],
 "metadata": {
  "kernelspec": {
   "display_name": "Python 3",
   "language": "python",
   "name": "python3"
  }
 },
 "nbformat": 4,
 "nbformat_minor": 2
}
