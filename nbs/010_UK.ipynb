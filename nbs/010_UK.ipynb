{
 "cells": [
  {
   "cell_type": "markdown",
   "metadata": {},
   "source": [
    "# United Kingdom"
   ]
  },
  {
   "cell_type": "markdown",
   "metadata": {},
   "source": [
    "The code is pretty ugly... parsing excel files that change between years."
   ]
  },
  {
   "cell_type": "code",
   "execution_count": null,
   "metadata": {},
   "outputs": [],
   "source": [
    "# default_exp countries.uk"
   ]
  },
  {
   "cell_type": "code",
   "execution_count": null,
   "metadata": {},
   "outputs": [],
   "source": [
    "#export\n",
    "from weekly_mort.imports import *\n",
    "from weekly_mort.core import *\n",
    "\n",
    "import openpyxl"
   ]
  },
  {
   "cell_type": "markdown",
   "metadata": {},
   "source": [
    "## Settings"
   ]
  },
  {
   "cell_type": "code",
   "execution_count": null,
   "metadata": {},
   "outputs": [],
   "source": [
    "down_dir, proc_dir = create_country_dirs('United Kingdom')"
   ]
  },
  {
   "cell_type": "code",
   "execution_count": null,
   "metadata": {},
   "outputs": [],
   "source": [
    "#export\n",
    "LAST_MODIFIED = datetime.date.today()"
   ]
  },
  {
   "cell_type": "markdown",
   "metadata": {},
   "source": [
    "Get URL for latest excel sheet."
   ]
  },
  {
   "cell_type": "code",
   "execution_count": null,
   "metadata": {},
   "outputs": [],
   "source": [
    "for i in range(datetime.date.today().isocalendar()[1]+1, 10, -1):\n",
    "    url2020 = f'https://www.ons.gov.uk/file?uri=%2fpeoplepopulationandcommunity%2f' \\\n",
    "              f'birthsdeathsandmarriages%2fdeaths%2fdatasets%2fweeklyprovisional' \\\n",
    "              f'figuresondeathsregisteredinenglandandwales%2f2020/publishedweek{i}2020.xlsx'\n",
    "    out = requests.get(url2020)\n",
    "    if out.status_code == 200:\n",
    "        break"
   ]
  },
  {
   "cell_type": "code",
   "execution_count": null,
   "metadata": {},
   "outputs": [],
   "source": [
    "urls = {2020: url2020,\n",
    "        2019:'https://www.ons.gov.uk/file?uri=%2fpeoplepopulationandcommunity%2fbirthsdeathsandmarriages%2fdeaths%2fdatasets%2fweeklyprovisionalfiguresondeathsregisteredinenglandandwales%2f2019/publishedweek522019.xls',\n",
    "        2018: 'https://www.ons.gov.uk/file?uri=%2fpeoplepopulationandcommunity%2fbirthsdeathsandmarriages%2fdeaths%2fdatasets%2fweeklyprovisionalfiguresondeathsregisteredinenglandandwales%2f2018/publishedweek522018withupdatedrespiratoryrow.xls',\n",
    "        2017: 'https://www.ons.gov.uk/file?uri=%2fpeoplepopulationandcommunity%2fbirthsdeathsandmarriages%2fdeaths%2fdatasets%2fweeklyprovisionalfiguresondeathsregisteredinenglandandwales%2f2017/publishedweek522017.xls'\n",
    "}"
   ]
  },
  {
   "cell_type": "markdown",
   "metadata": {},
   "source": [
    "## Process 2020 deaths"
   ]
  },
  {
   "cell_type": "code",
   "execution_count": null,
   "metadata": {},
   "outputs": [],
   "source": [
    "with open(down_dir/'deaths2020.xlsx', 'wb') as f:\n",
    "    f.write(requests.get(urls[2020]).content)\n",
    "\n",
    "wb = openpyxl.load_workbook(down_dir/'deaths2020.xlsx')\n",
    "sheet = wb['Weekly figures 2020']"
   ]
  },
  {
   "cell_type": "code",
   "execution_count": null,
   "metadata": {},
   "outputs": [],
   "source": [
    "def filter_row(row):\n",
    "    return list(filter(lambda x: x is not None, row[2:]))\n",
    "\n",
    "def get_row_contents(sheet, first_col_val, colcheck = 0):\n",
    "    for row in sheet.values:\n",
    "        if row[colcheck] == first_col_val:\n",
    "            return filter_row(row)"
   ]
  },
  {
   "cell_type": "markdown",
   "metadata": {},
   "source": [
    "### Overall Deaths"
   ]
  },
  {
   "cell_type": "code",
   "execution_count": null,
   "metadata": {},
   "outputs": [],
   "source": [
    "enddates = get_row_contents(sheet, 'Week ended')\n",
    "\n",
    "deaths = get_row_contents(sheet, 'Total deaths, all ages')\n",
    "\n",
    "resp_deaths = get_row_contents(sheet,\n",
    "                               'Deaths where the underlying cause was respiratory disease (ICD-10 J00-J99)',\n",
    "                               1)\n",
    "\n",
    "assert len(deaths) == len(resp_deaths)"
   ]
  },
  {
   "cell_type": "code",
   "execution_count": null,
   "metadata": {},
   "outputs": [
    {
     "data": {
      "text/html": [
       "<div>\n",
       "<style scoped>\n",
       "    .dataframe tbody tr th:only-of-type {\n",
       "        vertical-align: middle;\n",
       "    }\n",
       "\n",
       "    .dataframe tbody tr th {\n",
       "        vertical-align: top;\n",
       "    }\n",
       "\n",
       "    .dataframe thead th {\n",
       "        text-align: right;\n",
       "    }\n",
       "</style>\n",
       "<table border=\"1\" class=\"dataframe\">\n",
       "  <thead>\n",
       "    <tr style=\"text-align: right;\">\n",
       "      <th></th>\n",
       "      <th>Week</th>\n",
       "      <th>Condition</th>\n",
       "      <th>Deaths</th>\n",
       "      <th>Age</th>\n",
       "      <th>Year</th>\n",
       "      <th>Region</th>\n",
       "      <th>Sex</th>\n",
       "    </tr>\n",
       "  </thead>\n",
       "  <tbody>\n",
       "    <tr>\n",
       "      <th>0</th>\n",
       "      <td>2020-01-03</td>\n",
       "      <td>Total</td>\n",
       "      <td>12254</td>\n",
       "      <td>Total</td>\n",
       "      <td>2020</td>\n",
       "      <td>Total</td>\n",
       "      <td>Total</td>\n",
       "    </tr>\n",
       "    <tr>\n",
       "      <th>1</th>\n",
       "      <td>2020-01-10</td>\n",
       "      <td>Total</td>\n",
       "      <td>14058</td>\n",
       "      <td>Total</td>\n",
       "      <td>2020</td>\n",
       "      <td>Total</td>\n",
       "      <td>Total</td>\n",
       "    </tr>\n",
       "    <tr>\n",
       "      <th>2</th>\n",
       "      <td>2020-01-17</td>\n",
       "      <td>Total</td>\n",
       "      <td>12990</td>\n",
       "      <td>Total</td>\n",
       "      <td>2020</td>\n",
       "      <td>Total</td>\n",
       "      <td>Total</td>\n",
       "    </tr>\n",
       "    <tr>\n",
       "      <th>3</th>\n",
       "      <td>2020-01-24</td>\n",
       "      <td>Total</td>\n",
       "      <td>11856</td>\n",
       "      <td>Total</td>\n",
       "      <td>2020</td>\n",
       "      <td>Total</td>\n",
       "      <td>Total</td>\n",
       "    </tr>\n",
       "    <tr>\n",
       "      <th>4</th>\n",
       "      <td>2020-01-31</td>\n",
       "      <td>Total</td>\n",
       "      <td>11612</td>\n",
       "      <td>Total</td>\n",
       "      <td>2020</td>\n",
       "      <td>Total</td>\n",
       "      <td>Total</td>\n",
       "    </tr>\n",
       "  </tbody>\n",
       "</table>\n",
       "</div>"
      ],
      "text/plain": [
       "        Week Condition  Deaths    Age  Year Region    Sex\n",
       "0 2020-01-03     Total   12254  Total  2020  Total  Total\n",
       "1 2020-01-10     Total   14058  Total  2020  Total  Total\n",
       "2 2020-01-17     Total   12990  Total  2020  Total  Total\n",
       "3 2020-01-24     Total   11856  Total  2020  Total  Total\n",
       "4 2020-01-31     Total   11612  Total  2020  Total  Total"
      ]
     },
     "execution_count": null,
     "metadata": {},
     "output_type": "execute_result"
    }
   ],
   "source": [
    "total = pd.DataFrame({'Week':[*enddates[:len(deaths)], *enddates[:len(deaths)]],\n",
    "                      'Condition': [*list(itertools.repeat('Total', len(deaths))),\n",
    "                                    *list(itertools.repeat('Respiratory', len(deaths)))],\n",
    "                      'Deaths':[*deaths, *resp_deaths]})\n",
    "total['Age'], total['Year'], total['Region'], total['Sex'] = 'Total', 2020, 'Total', 'Total'\n",
    "\n",
    "total.head()"
   ]
  },
  {
   "cell_type": "markdown",
   "metadata": {},
   "source": [
    "### Death by Age"
   ]
  },
  {
   "cell_type": "code",
   "execution_count": null,
   "metadata": {},
   "outputs": [],
   "source": [
    "AGE_LIST = [\n",
    "    '<1', '1-4', '5-9', '10-14', '15-19', '20-24', '25-29',\n",
    "    '30-34', '35-39', '40-44', '45-49', '50-54', '55-59', '60-64',\n",
    "    '65-69', '70-74', '75-79', '80-84', '85-89', '90+'   \n",
    "]"
   ]
  },
  {
   "cell_type": "code",
   "execution_count": null,
   "metadata": {},
   "outputs": [],
   "source": [
    "def _process_section(row_gen, row, Sex='Total', year=2020, enddates=enddates):\n",
    "    dfs = []\n",
    "    found_flag = False\n",
    "    while True:\n",
    "        if row[1] in AGE_LIST:\n",
    "            found_flag = True\n",
    "            deaths = filter_row(row)\n",
    "            df = pd.DataFrame({'Week':enddates[: len(deaths)], 'Deaths': deaths})\n",
    "            df['Age'], df['Year'], df['Sex'] = row[1], year, Sex\n",
    "            df['Condition'], df['Region'] = 'Total', 'Total'\n",
    "            dfs.append(df)\n",
    "        elif found_flag:\n",
    "            break\n",
    "        row = next(row_gen)\n",
    "    return row, pd.concat(dfs)"
   ]
  },
  {
   "cell_type": "code",
   "execution_count": null,
   "metadata": {},
   "outputs": [
    {
     "data": {
      "text/html": [
       "<div>\n",
       "<style scoped>\n",
       "    .dataframe tbody tr th:only-of-type {\n",
       "        vertical-align: middle;\n",
       "    }\n",
       "\n",
       "    .dataframe tbody tr th {\n",
       "        vertical-align: top;\n",
       "    }\n",
       "\n",
       "    .dataframe thead th {\n",
       "        text-align: right;\n",
       "    }\n",
       "</style>\n",
       "<table border=\"1\" class=\"dataframe\">\n",
       "  <thead>\n",
       "    <tr style=\"text-align: right;\">\n",
       "      <th></th>\n",
       "      <th>Week</th>\n",
       "      <th>Deaths</th>\n",
       "      <th>Age</th>\n",
       "      <th>Year</th>\n",
       "      <th>Sex</th>\n",
       "      <th>Condition</th>\n",
       "      <th>Region</th>\n",
       "    </tr>\n",
       "  </thead>\n",
       "  <tbody>\n",
       "    <tr>\n",
       "      <th>0</th>\n",
       "      <td>2020-01-03</td>\n",
       "      <td>48</td>\n",
       "      <td>&lt;1</td>\n",
       "      <td>2020</td>\n",
       "      <td>Total</td>\n",
       "      <td>Total</td>\n",
       "      <td>Total</td>\n",
       "    </tr>\n",
       "    <tr>\n",
       "      <th>1</th>\n",
       "      <td>2020-01-10</td>\n",
       "      <td>50</td>\n",
       "      <td>&lt;1</td>\n",
       "      <td>2020</td>\n",
       "      <td>Total</td>\n",
       "      <td>Total</td>\n",
       "      <td>Total</td>\n",
       "    </tr>\n",
       "    <tr>\n",
       "      <th>2</th>\n",
       "      <td>2020-01-17</td>\n",
       "      <td>69</td>\n",
       "      <td>&lt;1</td>\n",
       "      <td>2020</td>\n",
       "      <td>Total</td>\n",
       "      <td>Total</td>\n",
       "      <td>Total</td>\n",
       "    </tr>\n",
       "    <tr>\n",
       "      <th>3</th>\n",
       "      <td>2020-01-24</td>\n",
       "      <td>53</td>\n",
       "      <td>&lt;1</td>\n",
       "      <td>2020</td>\n",
       "      <td>Total</td>\n",
       "      <td>Total</td>\n",
       "      <td>Total</td>\n",
       "    </tr>\n",
       "    <tr>\n",
       "      <th>4</th>\n",
       "      <td>2020-01-31</td>\n",
       "      <td>50</td>\n",
       "      <td>&lt;1</td>\n",
       "      <td>2020</td>\n",
       "      <td>Total</td>\n",
       "      <td>Total</td>\n",
       "      <td>Total</td>\n",
       "    </tr>\n",
       "  </tbody>\n",
       "</table>\n",
       "</div>"
      ],
      "text/plain": [
       "        Week  Deaths Age  Year    Sex Condition Region\n",
       "0 2020-01-03      48  <1  2020  Total     Total  Total\n",
       "1 2020-01-10      50  <1  2020  Total     Total  Total\n",
       "2 2020-01-17      69  <1  2020  Total     Total  Total\n",
       "3 2020-01-24      53  <1  2020  Total     Total  Total\n",
       "4 2020-01-31      50  <1  2020  Total     Total  Total"
      ]
     },
     "execution_count": null,
     "metadata": {},
     "output_type": "execute_result"
    }
   ],
   "source": [
    "gen_ex = sheet.values\n",
    "\n",
    "for row in gen_ex:\n",
    "    if row[1] and ('Persons' in row[1]):\n",
    "        break\n",
    "\n",
    "_, out = _process_section(gen_ex, row)\n",
    "\n",
    "assert len(out) % len(AGE_LIST) == 0\n",
    "\n",
    "out.head()"
   ]
  },
  {
   "cell_type": "code",
   "execution_count": null,
   "metadata": {},
   "outputs": [],
   "source": [
    "def get_age_breakdown(sheet, year=2020, enddates=enddates):\n",
    "    row_gen = sheet.values\n",
    "\n",
    "    dfs = []\n",
    "    pflag, fflag, mflag = [False]*3\n",
    "    row = next(row_gen)\n",
    "\n",
    "    while True:\n",
    "        if row[1]:\n",
    "            if 'Persons' in row[1]:\n",
    "                row, df = _process_section(row_gen, row, 'Total', year, enddates)\n",
    "                dfs.append(df)\n",
    "                pflag = True\n",
    "            if 'Males' in row[1]:\n",
    "                row, df = _process_section(row_gen, row, 'Male', year, enddates)\n",
    "                dfs.append(df)\n",
    "                mflag = True\n",
    "            if 'Females' in row[1]:\n",
    "                row, df = _process_section(row_gen, row, 'Female', year, enddates)\n",
    "                dfs.append(df)\n",
    "                fflag = True\n",
    "        elif pflag and mflag and fflag:\n",
    "            break\n",
    "        row = next(row_gen)\n",
    "    return pd.concat(dfs)"
   ]
  },
  {
   "cell_type": "code",
   "execution_count": null,
   "metadata": {},
   "outputs": [],
   "source": [
    "byages = get_age_breakdown(sheet)"
   ]
  },
  {
   "cell_type": "code",
   "execution_count": null,
   "metadata": {},
   "outputs": [
    {
     "data": {
      "text/html": [
       "<div>\n",
       "<style scoped>\n",
       "    .dataframe tbody tr th:only-of-type {\n",
       "        vertical-align: middle;\n",
       "    }\n",
       "\n",
       "    .dataframe tbody tr th {\n",
       "        vertical-align: top;\n",
       "    }\n",
       "\n",
       "    .dataframe thead th {\n",
       "        text-align: right;\n",
       "    }\n",
       "</style>\n",
       "<table border=\"1\" class=\"dataframe\">\n",
       "  <thead>\n",
       "    <tr style=\"text-align: right;\">\n",
       "      <th></th>\n",
       "      <th>Week</th>\n",
       "      <th>Deaths</th>\n",
       "      <th>Age</th>\n",
       "      <th>Year</th>\n",
       "      <th>Sex</th>\n",
       "      <th>Condition</th>\n",
       "      <th>Region</th>\n",
       "    </tr>\n",
       "  </thead>\n",
       "  <tbody>\n",
       "    <tr>\n",
       "      <th>0</th>\n",
       "      <td>2020-01-03</td>\n",
       "      <td>48</td>\n",
       "      <td>&lt;1</td>\n",
       "      <td>2020</td>\n",
       "      <td>Total</td>\n",
       "      <td>Total</td>\n",
       "      <td>Total</td>\n",
       "    </tr>\n",
       "    <tr>\n",
       "      <th>1</th>\n",
       "      <td>2020-01-10</td>\n",
       "      <td>50</td>\n",
       "      <td>&lt;1</td>\n",
       "      <td>2020</td>\n",
       "      <td>Total</td>\n",
       "      <td>Total</td>\n",
       "      <td>Total</td>\n",
       "    </tr>\n",
       "    <tr>\n",
       "      <th>2</th>\n",
       "      <td>2020-01-17</td>\n",
       "      <td>69</td>\n",
       "      <td>&lt;1</td>\n",
       "      <td>2020</td>\n",
       "      <td>Total</td>\n",
       "      <td>Total</td>\n",
       "      <td>Total</td>\n",
       "    </tr>\n",
       "    <tr>\n",
       "      <th>3</th>\n",
       "      <td>2020-01-24</td>\n",
       "      <td>53</td>\n",
       "      <td>&lt;1</td>\n",
       "      <td>2020</td>\n",
       "      <td>Total</td>\n",
       "      <td>Total</td>\n",
       "      <td>Total</td>\n",
       "    </tr>\n",
       "    <tr>\n",
       "      <th>4</th>\n",
       "      <td>2020-01-31</td>\n",
       "      <td>50</td>\n",
       "      <td>&lt;1</td>\n",
       "      <td>2020</td>\n",
       "      <td>Total</td>\n",
       "      <td>Total</td>\n",
       "      <td>Total</td>\n",
       "    </tr>\n",
       "  </tbody>\n",
       "</table>\n",
       "</div>"
      ],
      "text/plain": [
       "        Week  Deaths Age  Year    Sex Condition Region\n",
       "0 2020-01-03      48  <1  2020  Total     Total  Total\n",
       "1 2020-01-10      50  <1  2020  Total     Total  Total\n",
       "2 2020-01-17      69  <1  2020  Total     Total  Total\n",
       "3 2020-01-24      53  <1  2020  Total     Total  Total\n",
       "4 2020-01-31      50  <1  2020  Total     Total  Total"
      ]
     },
     "execution_count": null,
     "metadata": {},
     "output_type": "execute_result"
    }
   ],
   "source": [
    "byages.head()"
   ]
  },
  {
   "cell_type": "markdown",
   "metadata": {},
   "source": [
    "We need to group ages into tighter categories to make it compatible with previous years."
   ]
  },
  {
   "cell_type": "code",
   "execution_count": null,
   "metadata": {},
   "outputs": [],
   "source": [
    "def _age_map(x):\n",
    "    if x == '<1':\n",
    "        return 'Under 1 year'\n",
    "    elif x in ['1-4', '5-9', '10-14']:\n",
    "        return '01-14'\n",
    "    elif x in ['15-19', '20-24', '25-29', '30-34', '35-39', '40-44']:\n",
    "        return '15-44'\n",
    "    elif x in ['45-49', '50-54', '55-59', '60-64']:\n",
    "        return '45-64'\n",
    "    elif x in ['65-69', '70-74']:\n",
    "        return '65-74'\n",
    "    elif x in ['75-79', '80-84']:\n",
    "        return '75-84'\n",
    "    elif x in ['85-89', '90+']:\n",
    "        return '85+'\n",
    "    else:\n",
    "        raise ValueError"
   ]
  },
  {
   "cell_type": "code",
   "execution_count": null,
   "metadata": {},
   "outputs": [],
   "source": [
    "byages.Age = byages.Age.apply(_age_map)"
   ]
  },
  {
   "cell_type": "code",
   "execution_count": null,
   "metadata": {},
   "outputs": [],
   "source": [
    "byages = byages.groupby(['Week', 'Year', 'Age', 'Sex', 'Condition', 'Region']).agg(sum).reset_index()"
   ]
  },
  {
   "cell_type": "code",
   "execution_count": null,
   "metadata": {},
   "outputs": [
    {
     "data": {
      "text/html": [
       "<div>\n",
       "<style scoped>\n",
       "    .dataframe tbody tr th:only-of-type {\n",
       "        vertical-align: middle;\n",
       "    }\n",
       "\n",
       "    .dataframe tbody tr th {\n",
       "        vertical-align: top;\n",
       "    }\n",
       "\n",
       "    .dataframe thead th {\n",
       "        text-align: right;\n",
       "    }\n",
       "</style>\n",
       "<table border=\"1\" class=\"dataframe\">\n",
       "  <thead>\n",
       "    <tr style=\"text-align: right;\">\n",
       "      <th></th>\n",
       "      <th>Week</th>\n",
       "      <th>Year</th>\n",
       "      <th>Age</th>\n",
       "      <th>Sex</th>\n",
       "      <th>Condition</th>\n",
       "      <th>Region</th>\n",
       "      <th>Deaths</th>\n",
       "    </tr>\n",
       "  </thead>\n",
       "  <tbody>\n",
       "    <tr>\n",
       "      <th>0</th>\n",
       "      <td>2020-01-03</td>\n",
       "      <td>2020</td>\n",
       "      <td>01-14</td>\n",
       "      <td>Female</td>\n",
       "      <td>Total</td>\n",
       "      <td>Total</td>\n",
       "      <td>8</td>\n",
       "    </tr>\n",
       "    <tr>\n",
       "      <th>1</th>\n",
       "      <td>2020-01-03</td>\n",
       "      <td>2020</td>\n",
       "      <td>01-14</td>\n",
       "      <td>Male</td>\n",
       "      <td>Total</td>\n",
       "      <td>Total</td>\n",
       "      <td>8</td>\n",
       "    </tr>\n",
       "    <tr>\n",
       "      <th>2</th>\n",
       "      <td>2020-01-03</td>\n",
       "      <td>2020</td>\n",
       "      <td>01-14</td>\n",
       "      <td>Total</td>\n",
       "      <td>Total</td>\n",
       "      <td>Total</td>\n",
       "      <td>16</td>\n",
       "    </tr>\n",
       "    <tr>\n",
       "      <th>3</th>\n",
       "      <td>2020-01-03</td>\n",
       "      <td>2020</td>\n",
       "      <td>15-44</td>\n",
       "      <td>Female</td>\n",
       "      <td>Total</td>\n",
       "      <td>Total</td>\n",
       "      <td>74</td>\n",
       "    </tr>\n",
       "    <tr>\n",
       "      <th>4</th>\n",
       "      <td>2020-01-03</td>\n",
       "      <td>2020</td>\n",
       "      <td>15-44</td>\n",
       "      <td>Male</td>\n",
       "      <td>Total</td>\n",
       "      <td>Total</td>\n",
       "      <td>115</td>\n",
       "    </tr>\n",
       "  </tbody>\n",
       "</table>\n",
       "</div>"
      ],
      "text/plain": [
       "        Week  Year    Age     Sex Condition Region  Deaths\n",
       "0 2020-01-03  2020  01-14  Female     Total  Total       8\n",
       "1 2020-01-03  2020  01-14    Male     Total  Total       8\n",
       "2 2020-01-03  2020  01-14   Total     Total  Total      16\n",
       "3 2020-01-03  2020  15-44  Female     Total  Total      74\n",
       "4 2020-01-03  2020  15-44    Male     Total  Total     115"
      ]
     },
     "execution_count": null,
     "metadata": {},
     "output_type": "execute_result"
    }
   ],
   "source": [
    "byages.head()"
   ]
  },
  {
   "cell_type": "code",
   "execution_count": null,
   "metadata": {},
   "outputs": [],
   "source": [
    "assert all(byages.Week.value_counts() == 21)"
   ]
  },
  {
   "cell_type": "code",
   "execution_count": null,
   "metadata": {},
   "outputs": [],
   "source": [
    "AGE_LIST = ['Under 1 year', '01-14', '15-44', '45-64', '65-74', '75-84', '85+']"
   ]
  },
  {
   "cell_type": "code",
   "execution_count": null,
   "metadata": {},
   "outputs": [],
   "source": [
    "assert all(byages.Age.isin(AGE_LIST))"
   ]
  },
  {
   "cell_type": "markdown",
   "metadata": {},
   "source": [
    "### By geography"
   ]
  },
  {
   "cell_type": "code",
   "execution_count": null,
   "metadata": {},
   "outputs": [],
   "source": [
    "def get_geographical(sheet, year=2020, enddates=enddates):\n",
    "\n",
    "    found_flag = False\n",
    "    dfs = []\n",
    "\n",
    "    for row in sheet.values:\n",
    "        if row[1] and ('Deaths by region of usual residence' in row[1]):\n",
    "            found_flag = True\n",
    "            continue\n",
    "        elif not found_flag:\n",
    "            continue\n",
    "\n",
    "        if row[1] is None:\n",
    "            break\n",
    "        deaths = filter_row(row)\n",
    "        df = pd.DataFrame({'Week':enddates[: len(deaths)], 'Deaths': deaths})\n",
    "        df['Age'], df['Year'], df['Sex'] = 'Total', year, 'Total'\n",
    "        df['Condition'], df['Region'] = 'Total', row[1]\n",
    "        dfs.append(df)\n",
    "\n",
    "    return pd.concat(dfs)"
   ]
  },
  {
   "cell_type": "code",
   "execution_count": null,
   "metadata": {},
   "outputs": [],
   "source": [
    "bygeo = get_geographical(sheet)"
   ]
  },
  {
   "cell_type": "code",
   "execution_count": null,
   "metadata": {},
   "outputs": [
    {
     "data": {
      "text/html": [
       "<div>\n",
       "<style scoped>\n",
       "    .dataframe tbody tr th:only-of-type {\n",
       "        vertical-align: middle;\n",
       "    }\n",
       "\n",
       "    .dataframe tbody tr th {\n",
       "        vertical-align: top;\n",
       "    }\n",
       "\n",
       "    .dataframe thead th {\n",
       "        text-align: right;\n",
       "    }\n",
       "</style>\n",
       "<table border=\"1\" class=\"dataframe\">\n",
       "  <thead>\n",
       "    <tr style=\"text-align: right;\">\n",
       "      <th></th>\n",
       "      <th>Week</th>\n",
       "      <th>Year</th>\n",
       "      <th>Age</th>\n",
       "      <th>Sex</th>\n",
       "      <th>Condition</th>\n",
       "      <th>Region</th>\n",
       "      <th>Deaths</th>\n",
       "    </tr>\n",
       "  </thead>\n",
       "  <tbody>\n",
       "    <tr>\n",
       "      <th>0</th>\n",
       "      <td>2020-01-03</td>\n",
       "      <td>2020</td>\n",
       "      <td>Total</td>\n",
       "      <td>Total</td>\n",
       "      <td>Total</td>\n",
       "      <td>Total</td>\n",
       "      <td>12254</td>\n",
       "    </tr>\n",
       "    <tr>\n",
       "      <th>1</th>\n",
       "      <td>2020-01-10</td>\n",
       "      <td>2020</td>\n",
       "      <td>Total</td>\n",
       "      <td>Total</td>\n",
       "      <td>Total</td>\n",
       "      <td>Total</td>\n",
       "      <td>14058</td>\n",
       "    </tr>\n",
       "    <tr>\n",
       "      <th>2</th>\n",
       "      <td>2020-01-17</td>\n",
       "      <td>2020</td>\n",
       "      <td>Total</td>\n",
       "      <td>Total</td>\n",
       "      <td>Total</td>\n",
       "      <td>Total</td>\n",
       "      <td>12990</td>\n",
       "    </tr>\n",
       "    <tr>\n",
       "      <th>3</th>\n",
       "      <td>2020-01-24</td>\n",
       "      <td>2020</td>\n",
       "      <td>Total</td>\n",
       "      <td>Total</td>\n",
       "      <td>Total</td>\n",
       "      <td>Total</td>\n",
       "      <td>11856</td>\n",
       "    </tr>\n",
       "    <tr>\n",
       "      <th>4</th>\n",
       "      <td>2020-01-31</td>\n",
       "      <td>2020</td>\n",
       "      <td>Total</td>\n",
       "      <td>Total</td>\n",
       "      <td>Total</td>\n",
       "      <td>Total</td>\n",
       "      <td>11612</td>\n",
       "    </tr>\n",
       "  </tbody>\n",
       "</table>\n",
       "</div>"
      ],
      "text/plain": [
       "        Week  Year    Age    Sex Condition Region  Deaths\n",
       "0 2020-01-03  2020  Total  Total     Total  Total   12254\n",
       "1 2020-01-10  2020  Total  Total     Total  Total   14058\n",
       "2 2020-01-17  2020  Total  Total     Total  Total   12990\n",
       "3 2020-01-24  2020  Total  Total     Total  Total   11856\n",
       "4 2020-01-31  2020  Total  Total     Total  Total   11612"
      ]
     },
     "execution_count": null,
     "metadata": {},
     "output_type": "execute_result"
    }
   ],
   "source": [
    "all2020 = pd.concat([total, byages, bygeo], sort=True)\n",
    "\n",
    "assert not any(all2020.isna().sum())\n",
    "\n",
    "cols = ['Week', 'Year', 'Age', 'Sex', 'Condition', 'Region', 'Deaths']\n",
    "all2020 = all2020[cols]\n",
    "\n",
    "all2020.head()"
   ]
  },
  {
   "cell_type": "markdown",
   "metadata": {},
   "source": [
    "## Process Previous Years"
   ]
  },
  {
   "cell_type": "markdown",
   "metadata": {},
   "source": [
    "First we convert previous years from `xls` to `xlsx` so we can use the previous approach."
   ]
  },
  {
   "cell_type": "code",
   "execution_count": null,
   "metadata": {},
   "outputs": [],
   "source": [
    "import xlrd\n",
    "from openpyxl.workbook import Workbook\n",
    "\n",
    "def cvt_xls_to_xlsx(src_file_path, dst_file_path):\n",
    "    '''\n",
    "    From https://stackoverflow.com/questions/9918646/how-to-convert-xls-to-xlsx/42574983#42574983\n",
    "    '''\n",
    "    book_xls = xlrd.open_workbook(src_file_path)\n",
    "    book_xlsx = Workbook()\n",
    "\n",
    "    sheet_names = book_xls.sheet_names()\n",
    "    for sheet_index, sheet_name in enumerate(sheet_names):\n",
    "        sheet_xls = book_xls.sheet_by_name(sheet_name)\n",
    "        if sheet_index == 0:\n",
    "            sheet_xlsx = book_xlsx.active\n",
    "            sheet_xlsx.title = sheet_name\n",
    "        else:\n",
    "            sheet_xlsx = book_xlsx.create_sheet(title=sheet_name)\n",
    "\n",
    "        for row in range(0, sheet_xls.nrows):\n",
    "            for col in range(0, sheet_xls.ncols):\n",
    "                sheet_xlsx.cell(row = row+1 , column = col+1).value = sheet_xls.cell_value(row, col)\n",
    "\n",
    "    book_xlsx.save(dst_file_path)"
   ]
  },
  {
   "cell_type": "code",
   "execution_count": null,
   "metadata": {},
   "outputs": [],
   "source": [
    "years = list(range(2017, 2020))"
   ]
  },
  {
   "cell_type": "code",
   "execution_count": null,
   "metadata": {},
   "outputs": [],
   "source": [
    "for year in years:\n",
    "    with open(down_dir/f'deaths{year}.xls', 'wb') as f:\n",
    "        f.write(requests.get(urls[year]).content)\n",
    "    \n",
    "    cvt_xls_to_xlsx(down_dir/f'deaths{year}.xls', down_dir/f'deaths{year}.xlsx')"
   ]
  },
  {
   "cell_type": "code",
   "execution_count": null,
   "metadata": {},
   "outputs": [],
   "source": [
    "wbs = [openpyxl.load_workbook(down_dir/f'deaths{year}.xlsx') for year in years]\n",
    "\n",
    "sheetnames = [f'Weekly figures {y}' for y in years]\n",
    "\n",
    "sheets = [wb[shname] for wb, shname in zip(wbs, sheetnames)]"
   ]
  },
  {
   "cell_type": "code",
   "execution_count": null,
   "metadata": {},
   "outputs": [],
   "source": [
    "def conv2date(xldate, datemode=0):\n",
    "    '''\n",
    "    from https://stackoverflow.com/questions/1108428/how-do-i-read-a-date-in-excel-format-in-python\n",
    "    '''\n",
    "    # datemode: 0 for 1900-based, 1 for 1904-based\n",
    "    return (\n",
    "        datetime.datetime(1899, 12, 30)\n",
    "        + datetime.timedelta(days=xldate + 1462 * datemode)\n",
    "        )"
   ]
  },
  {
   "cell_type": "code",
   "execution_count": null,
   "metadata": {},
   "outputs": [],
   "source": [
    "_conv_dates = lambda x: [conv2date(y) for y in x]\n",
    "\n",
    "enddates = [_conv_dates(get_row_contents(sh, 'Week ended')) for sh in sheets]"
   ]
  },
  {
   "cell_type": "code",
   "execution_count": null,
   "metadata": {},
   "outputs": [],
   "source": [
    "byage = [get_age_breakdown(sh, y, end) for sh, y, end in zip(sheets, years, enddates)]\n",
    "\n",
    "bygeo = [get_geographical(sh, y, end) for sh, y, end in zip(sheets, years, enddates)]"
   ]
  },
  {
   "cell_type": "code",
   "execution_count": null,
   "metadata": {},
   "outputs": [],
   "source": [
    "def get_totals(sheet, year, enddates):\n",
    "    deaths = get_row_contents(sheet, 'Total deaths, all ages')\n",
    "    \n",
    "    resp_deaths = get_row_contents(sheet,\n",
    "                               'All respiratory diseases (ICD-10 J00-J99)\\nICD-10 v 2013 (IRIS)',\n",
    "                               1)\n",
    "    \n",
    "    total = pd.DataFrame({'Week':[*enddates[:len(deaths)], *enddates[:len(deaths)]],\n",
    "                          'Condition': [*list(itertools.repeat('Total', len(deaths))),\n",
    "                                        *list(itertools.repeat('Respiratory', len(deaths)))],\n",
    "                          'Deaths':[*deaths, *resp_deaths]})\n",
    "    total['Age'], total['Year'], total['Region'], total['Sex'] = 'Total', year, 'Total', 'Total'\n",
    "    return total"
   ]
  },
  {
   "cell_type": "code",
   "execution_count": null,
   "metadata": {},
   "outputs": [],
   "source": [
    "totals = [get_totals(sh, y, end) for sh, y, end in zip(sheets, years, enddates)]"
   ]
  },
  {
   "cell_type": "code",
   "execution_count": null,
   "metadata": {},
   "outputs": [],
   "source": [
    "all_dfs = [pd.concat([t, a, g], sort=True) for t, a, g in zip(totals, byage, bygeo)]\n",
    "\n",
    "all_dfs = [df[cols] for df in all_dfs]"
   ]
  },
  {
   "cell_type": "markdown",
   "metadata": {},
   "source": [
    "## Process all years"
   ]
  },
  {
   "cell_type": "code",
   "execution_count": null,
   "metadata": {},
   "outputs": [],
   "source": [
    "df = pd.concat([all2020] + all_dfs)"
   ]
  },
  {
   "cell_type": "markdown",
   "metadata": {},
   "source": [
    "Just as for other countries, let's make a seperate mapping from week index to start & end dates.\n",
    "\n",
    "For the UK, dates end on Fridays, and the first week includes days from the previous year."
   ]
  },
  {
   "cell_type": "code",
   "execution_count": null,
   "metadata": {},
   "outputs": [],
   "source": [
    "dates = pd.DataFrame(itertools.chain(gen_weekdates(2017, datetime.date(2016, 12, 31), 4),\n",
    "                                     gen_weekdates(2018, datetime.date(2017, 12, 30), 4),\n",
    "                                     gen_weekdates(2019, datetime.date(2018, 12, 29), 4),\n",
    "                                     gen_weekdates(2020, datetime.date(2019, 12, 28), 4)))\n",
    "\n",
    "dates.columns = ['Year', 'Week', 'Start', 'End']"
   ]
  },
  {
   "cell_type": "code",
   "execution_count": null,
   "metadata": {},
   "outputs": [],
   "source": [
    "_week2idx = {end: week for week, end in zip(dates.Week, dates.End)}"
   ]
  },
  {
   "cell_type": "code",
   "execution_count": null,
   "metadata": {},
   "outputs": [],
   "source": [
    "df['Week'] = df.Week.apply(lambda x: _week2idx[datetime.date(x.year, x.month, x.day)])"
   ]
  },
  {
   "cell_type": "code",
   "execution_count": null,
   "metadata": {},
   "outputs": [
    {
     "data": {
      "text/html": [
       "<div>\n",
       "<style scoped>\n",
       "    .dataframe tbody tr th:only-of-type {\n",
       "        vertical-align: middle;\n",
       "    }\n",
       "\n",
       "    .dataframe tbody tr th {\n",
       "        vertical-align: top;\n",
       "    }\n",
       "\n",
       "    .dataframe thead th {\n",
       "        text-align: right;\n",
       "    }\n",
       "</style>\n",
       "<table border=\"1\" class=\"dataframe\">\n",
       "  <thead>\n",
       "    <tr style=\"text-align: right;\">\n",
       "      <th></th>\n",
       "      <th>Week</th>\n",
       "      <th>Year</th>\n",
       "      <th>Age</th>\n",
       "      <th>Sex</th>\n",
       "      <th>Condition</th>\n",
       "      <th>Region</th>\n",
       "      <th>Deaths</th>\n",
       "    </tr>\n",
       "  </thead>\n",
       "  <tbody>\n",
       "    <tr>\n",
       "      <th>0</th>\n",
       "      <td>0</td>\n",
       "      <td>2020</td>\n",
       "      <td>Total</td>\n",
       "      <td>Total</td>\n",
       "      <td>Total</td>\n",
       "      <td>Total</td>\n",
       "      <td>12254</td>\n",
       "    </tr>\n",
       "    <tr>\n",
       "      <th>1</th>\n",
       "      <td>1</td>\n",
       "      <td>2020</td>\n",
       "      <td>Total</td>\n",
       "      <td>Total</td>\n",
       "      <td>Total</td>\n",
       "      <td>Total</td>\n",
       "      <td>14058</td>\n",
       "    </tr>\n",
       "    <tr>\n",
       "      <th>2</th>\n",
       "      <td>2</td>\n",
       "      <td>2020</td>\n",
       "      <td>Total</td>\n",
       "      <td>Total</td>\n",
       "      <td>Total</td>\n",
       "      <td>Total</td>\n",
       "      <td>12990</td>\n",
       "    </tr>\n",
       "    <tr>\n",
       "      <th>3</th>\n",
       "      <td>3</td>\n",
       "      <td>2020</td>\n",
       "      <td>Total</td>\n",
       "      <td>Total</td>\n",
       "      <td>Total</td>\n",
       "      <td>Total</td>\n",
       "      <td>11856</td>\n",
       "    </tr>\n",
       "    <tr>\n",
       "      <th>4</th>\n",
       "      <td>4</td>\n",
       "      <td>2020</td>\n",
       "      <td>Total</td>\n",
       "      <td>Total</td>\n",
       "      <td>Total</td>\n",
       "      <td>Total</td>\n",
       "      <td>11612</td>\n",
       "    </tr>\n",
       "  </tbody>\n",
       "</table>\n",
       "</div>"
      ],
      "text/plain": [
       "   Week  Year    Age    Sex Condition Region  Deaths\n",
       "0     0  2020  Total  Total     Total  Total   12254\n",
       "1     1  2020  Total  Total     Total  Total   14058\n",
       "2     2  2020  Total  Total     Total  Total   12990\n",
       "3     3  2020  Total  Total     Total  Total   11856\n",
       "4     4  2020  Total  Total     Total  Total   11612"
      ]
     },
     "execution_count": null,
     "metadata": {},
     "output_type": "execute_result"
    }
   ],
   "source": [
    "df.head()"
   ]
  },
  {
   "cell_type": "markdown",
   "metadata": {},
   "source": [
    "## Save"
   ]
  },
  {
   "cell_type": "code",
   "execution_count": null,
   "metadata": {},
   "outputs": [],
   "source": [
    "df.to_csv(proc_dir/'deaths.csv', index=False)\n",
    "dates.to_csv(proc_dir/'week_dates.csv', index=False)"
   ]
  },
  {
   "cell_type": "markdown",
   "metadata": {},
   "source": [
    "## Convert"
   ]
  },
  {
   "cell_type": "code",
   "execution_count": null,
   "metadata": {},
   "outputs": [
    {
     "name": "stdout",
     "output_type": "stream",
     "text": [
      "Converted 00_core.ipynb.\n",
      "Converted 010_UK.ipynb.\n",
      "Converted 020_Netherlands.ipynb.\n",
      "Converted 03_collect.ipynb.\n",
      "Converted index.ipynb.\n"
     ]
    }
   ],
   "source": [
    "from nbdev.export import *\n",
    "notebook2script()"
   ]
  },
  {
   "cell_type": "code",
   "execution_count": null,
   "metadata": {},
   "outputs": [],
   "source": []
  }
 ],
 "metadata": {
  "kernelspec": {
   "display_name": "Python 3",
   "language": "python",
   "name": "python3"
  }
 },
 "nbformat": 4,
 "nbformat_minor": 4
}
