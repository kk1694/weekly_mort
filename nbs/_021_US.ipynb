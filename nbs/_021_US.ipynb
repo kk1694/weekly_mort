{
 "cells": [
  {
   "cell_type": "markdown",
   "metadata": {},
   "source": [
    "# Manual - United States"
   ]
  },
  {
   "cell_type": "markdown",
   "metadata": {},
   "source": [
    "I didn't include the US data, because the counts for 2020 are too low -- indicating that the data is incomplete despite the fields saying >100% complete."
   ]
  },
  {
   "cell_type": "code",
   "execution_count": null,
   "metadata": {},
   "outputs": [],
   "source": [
    "#export\n",
    "from weekly_mort.imports import *\n",
    "from weekly_mort.core import *"
   ]
  },
  {
   "cell_type": "markdown",
   "metadata": {},
   "source": [
    "## Manual steps\n",
    "\n",
    "When I was writing this notebook (2020/04/21), the API was not working. To update the Netherlands data, do the following steps:\n",
    "\n",
    "1. Go to [the CDC influenza mortality surveilence site](https://gis.cdc.gov/grasp/fluview/mortality.html)\n",
    "2. Click on `Downloads` -> `Custom Data` -> `Surveillance area: National` -> `Select All Seasons` -> `Select All Age Groups` -> `Download`\n",
    "3. Do the same for the State-level data. 2. Click on `Downloads` -> `Custom Data` -> `Surveillance area: State` -> `Select All Seasons` -> `Download`\n",
    "3. Move the .csv files to `_downloads/United States/`\n",
    "4. Update the LAST_MODIFIED cell below with the latest date, then run all cells."
   ]
  },
  {
   "cell_type": "code",
   "execution_count": null,
   "metadata": {},
   "outputs": [
    {
     "data": {
      "text/plain": [
       "datetime.date(2020, 4, 22)"
      ]
     },
     "execution_count": null,
     "metadata": {},
     "output_type": "execute_result"
    }
   ],
   "source": [
    "#export\n",
    "LAST_MODIFIED = datetime.date(2020, 4, 22)\n",
    "LAST_MODIFIED"
   ]
  },
  {
   "cell_type": "markdown",
   "metadata": {},
   "source": [
    "## Process Data"
   ]
  },
  {
   "cell_type": "code",
   "execution_count": null,
   "metadata": {},
   "outputs": [],
   "source": [
    "down_dir, proc_dir = create_country_dirs('United States')"
   ]
  },
  {
   "cell_type": "code",
   "execution_count": null,
   "metadata": {},
   "outputs": [],
   "source": [
    "nat = pd.read_csv(down_dir/'National_Custom_Data.csv')\n",
    "state = pd.read_csv(down_dir/'State_Custom_Data.csv')"
   ]
  },
  {
   "cell_type": "code",
   "execution_count": null,
   "metadata": {},
   "outputs": [
    {
     "data": {
      "text/plain": [
       "2014-15    53\n",
       "2017-18    52\n",
       "2013-14    52\n",
       "2016-17    52\n",
       "2015-16    52\n",
       "2018-19    52\n",
       "2019-20    28\n",
       "Name: SEASON, dtype: int64"
      ]
     },
     "execution_count": null,
     "metadata": {},
     "output_type": "execute_result"
    }
   ],
   "source": [
    "nat.SEASON.value_counts()"
   ]
  },
  {
   "cell_type": "code",
   "execution_count": null,
   "metadata": {},
   "outputs": [],
   "source": [
    "assert all(state.AREA == 'State')\n",
    "assert all(nat.AREA == 'National')"
   ]
  },
  {
   "cell_type": "code",
   "execution_count": null,
   "metadata": {},
   "outputs": [],
   "source": [
    "assert all(nat['SUB AREA'].isna())"
   ]
  },
  {
   "cell_type": "markdown",
   "metadata": {},
   "source": [
    "Unfortunately, there is no breakdown by age (despite what the website might suggest)."
   ]
  },
  {
   "cell_type": "code",
   "execution_count": null,
   "metadata": {},
   "outputs": [],
   "source": [
    "assert all(nat['AGE GROUP'] == 'All')\n",
    "assert all(state['AGE GROUP'] == 'All')"
   ]
  },
  {
   "cell_type": "code",
   "execution_count": null,
   "metadata": {},
   "outputs": [],
   "source": [
    "keepcols = ['AREA', 'SUB AREA', 'SEASON', 'WEEK', \n",
    "            'NUM INFLUENZA DEATHS', 'NUM PNEUMONIA DEATHS',\n",
    "            'TOTAL DEATHS', 'PERCENT COMPLETE']"
   ]
  },
  {
   "cell_type": "code",
   "execution_count": null,
   "metadata": {},
   "outputs": [],
   "source": [
    "df = pd.concat([nat[keepcols], state[keepcols]])"
   ]
  },
  {
   "cell_type": "code",
   "execution_count": null,
   "metadata": {},
   "outputs": [
    {
     "data": {
      "text/html": [
       "<div>\n",
       "<style scoped>\n",
       "    .dataframe tbody tr th:only-of-type {\n",
       "        vertical-align: middle;\n",
       "    }\n",
       "\n",
       "    .dataframe tbody tr th {\n",
       "        vertical-align: top;\n",
       "    }\n",
       "\n",
       "    .dataframe thead th {\n",
       "        text-align: right;\n",
       "    }\n",
       "</style>\n",
       "<table border=\"1\" class=\"dataframe\">\n",
       "  <thead>\n",
       "    <tr style=\"text-align: right;\">\n",
       "      <th></th>\n",
       "      <th>AREA</th>\n",
       "      <th>SUB AREA</th>\n",
       "      <th>SEASON</th>\n",
       "      <th>WEEK</th>\n",
       "      <th>NUM INFLUENZA DEATHS</th>\n",
       "      <th>NUM PNEUMONIA DEATHS</th>\n",
       "      <th>TOTAL DEATHS</th>\n",
       "      <th>PERCENT COMPLETE</th>\n",
       "    </tr>\n",
       "  </thead>\n",
       "  <tbody>\n",
       "    <tr>\n",
       "      <th>0</th>\n",
       "      <td>National</td>\n",
       "      <td>NaN</td>\n",
       "      <td>2019-20</td>\n",
       "      <td>40</td>\n",
       "      <td>16</td>\n",
       "      <td>2,707</td>\n",
       "      <td>52,465</td>\n",
       "      <td>&gt; 100%</td>\n",
       "    </tr>\n",
       "    <tr>\n",
       "      <th>1</th>\n",
       "      <td>National</td>\n",
       "      <td>NaN</td>\n",
       "      <td>2019-20</td>\n",
       "      <td>41</td>\n",
       "      <td>16</td>\n",
       "      <td>2,770</td>\n",
       "      <td>52,870</td>\n",
       "      <td>&gt; 100%</td>\n",
       "    </tr>\n",
       "    <tr>\n",
       "      <th>2</th>\n",
       "      <td>National</td>\n",
       "      <td>NaN</td>\n",
       "      <td>2019-20</td>\n",
       "      <td>42</td>\n",
       "      <td>18</td>\n",
       "      <td>2,978</td>\n",
       "      <td>54,143</td>\n",
       "      <td>&gt; 100%</td>\n",
       "    </tr>\n",
       "    <tr>\n",
       "      <th>3</th>\n",
       "      <td>National</td>\n",
       "      <td>NaN</td>\n",
       "      <td>2019-20</td>\n",
       "      <td>43</td>\n",
       "      <td>30</td>\n",
       "      <td>2,986</td>\n",
       "      <td>53,922</td>\n",
       "      <td>&gt; 100%</td>\n",
       "    </tr>\n",
       "    <tr>\n",
       "      <th>4</th>\n",
       "      <td>National</td>\n",
       "      <td>NaN</td>\n",
       "      <td>2019-20</td>\n",
       "      <td>44</td>\n",
       "      <td>31</td>\n",
       "      <td>2,908</td>\n",
       "      <td>54,000</td>\n",
       "      <td>&gt; 100%</td>\n",
       "    </tr>\n",
       "  </tbody>\n",
       "</table>\n",
       "</div>"
      ],
      "text/plain": [
       "       AREA SUB AREA   SEASON  WEEK NUM INFLUENZA DEATHS NUM PNEUMONIA DEATHS  \\\n",
       "0  National      NaN  2019-20    40                   16                2,707   \n",
       "1  National      NaN  2019-20    41                   16                2,770   \n",
       "2  National      NaN  2019-20    42                   18                2,978   \n",
       "3  National      NaN  2019-20    43                   30                2,986   \n",
       "4  National      NaN  2019-20    44                   31                2,908   \n",
       "\n",
       "  TOTAL DEATHS PERCENT COMPLETE  \n",
       "0       52,465           > 100%  \n",
       "1       52,870           > 100%  \n",
       "2       54,143           > 100%  \n",
       "3       53,922           > 100%  \n",
       "4       54,000           > 100%  "
      ]
     },
     "execution_count": null,
     "metadata": {},
     "output_type": "execute_result"
    }
   ],
   "source": [
    "df.head()"
   ]
  },
  {
   "cell_type": "code",
   "execution_count": null,
   "metadata": {},
   "outputs": [],
   "source": [
    "df['Year'] = df.apply(lambda x: int(x.SEASON[:4] if x.WEEK >= 40 else ('20' + x.SEASON[-2:])), axis=1)"
   ]
  },
  {
   "cell_type": "code",
   "execution_count": null,
   "metadata": {},
   "outputs": [],
   "source": [
    "df = df[df.Year >= 2017]"
   ]
  },
  {
   "cell_type": "code",
   "execution_count": null,
   "metadata": {},
   "outputs": [],
   "source": [
    "df['Region'] = np.where(df.AREA == 'National', 'Total', df['SUB AREA'])"
   ]
  },
  {
   "cell_type": "code",
   "execution_count": null,
   "metadata": {},
   "outputs": [],
   "source": [
    "assert all(df[df.Year < 2020].Year.value_counts() == 52*53)"
   ]
  },
  {
   "cell_type": "code",
   "execution_count": null,
   "metadata": {},
   "outputs": [
    {
     "data": {
      "text/plain": [
       "9063"
      ]
     },
     "execution_count": null,
     "metadata": {},
     "output_type": "execute_result"
    }
   ],
   "source": [
    "len(df)"
   ]
  },
  {
   "cell_type": "code",
   "execution_count": null,
   "metadata": {},
   "outputs": [],
   "source": [
    "df = df[df['PERCENT COMPLETE'] == '> 100%']"
   ]
  },
  {
   "cell_type": "code",
   "execution_count": null,
   "metadata": {},
   "outputs": [
    {
     "data": {
      "text/plain": [
       "6565"
      ]
     },
     "execution_count": null,
     "metadata": {},
     "output_type": "execute_result"
    }
   ],
   "source": [
    "len(df)"
   ]
  },
  {
   "cell_type": "markdown",
   "metadata": {},
   "source": [
    "I have no idea why previous years still have less than 100% completion..."
   ]
  },
  {
   "cell_type": "code",
   "execution_count": null,
   "metadata": {},
   "outputs": [
    {
     "data": {
      "text/plain": [
       "2019    2167\n",
       "2018    1943\n",
       "2017    1842\n",
       "Name: Year, dtype: int64"
      ]
     },
     "execution_count": null,
     "metadata": {},
     "output_type": "execute_result"
    }
   ],
   "source": [
    "df[df.Year < 2020].Year.value_counts()"
   ]
  },
  {
   "cell_type": "code",
   "execution_count": null,
   "metadata": {},
   "outputs": [],
   "source": [
    "df.rename({'WEEK': 'Week', 'NUM INFLUENZA DEATHS': 'Influenza',\n",
    "           'NUM PNEUMONIA DEATHS': 'Pneumonia', \n",
    "           'TOTAL DEATHS': 'Total'}, axis=1, inplace=True)"
   ]
  },
  {
   "cell_type": "code",
   "execution_count": null,
   "metadata": {},
   "outputs": [],
   "source": [
    "df = df[['Week', 'Year', 'Region', 'Influenza', 'Pneumonia', 'Total']]"
   ]
  },
  {
   "cell_type": "markdown",
   "metadata": {},
   "source": [
    "Change to 0 indexing"
   ]
  },
  {
   "cell_type": "code",
   "execution_count": null,
   "metadata": {},
   "outputs": [
    {
     "data": {
      "text/plain": [
       "(1, 52)"
      ]
     },
     "execution_count": null,
     "metadata": {},
     "output_type": "execute_result"
    }
   ],
   "source": [
    "df.Week.min(), df.Week.max()"
   ]
  },
  {
   "cell_type": "code",
   "execution_count": null,
   "metadata": {},
   "outputs": [],
   "source": [
    "df['Week'] = df.Week - 1"
   ]
  },
  {
   "cell_type": "code",
   "execution_count": null,
   "metadata": {},
   "outputs": [
    {
     "data": {
      "text/plain": [
       "(0, 51)"
      ]
     },
     "execution_count": null,
     "metadata": {},
     "output_type": "execute_result"
    }
   ],
   "source": [
    "df.Week.min(), df.Week.max()"
   ]
  },
  {
   "cell_type": "code",
   "execution_count": null,
   "metadata": {},
   "outputs": [],
   "source": [
    "df = pd.melt(df, id_vars = ['Week', 'Year', 'Region'], var_name='Condition', value_name='Deaths')"
   ]
  },
  {
   "cell_type": "markdown",
   "metadata": {},
   "source": [
    "Convert deaths to integers"
   ]
  },
  {
   "cell_type": "code",
   "execution_count": null,
   "metadata": {},
   "outputs": [],
   "source": [
    "df['Deaths'] = df.Deaths.apply(lambda x: int(x.replace(',', '')))"
   ]
  },
  {
   "cell_type": "code",
   "execution_count": null,
   "metadata": {},
   "outputs": [],
   "source": [
    "df.sort_values(['Year', 'Condition', 'Week'], ascending=[False, False, True], inplace=True)"
   ]
  },
  {
   "cell_type": "markdown",
   "metadata": {},
   "source": [
    "## Caution"
   ]
  },
  {
   "cell_type": "markdown",
   "metadata": {},
   "source": [
    "I don't know how the data is aggregated, but there are some strange artefacts: when writing this notebook (2020/04/22), the deaths in New York City were larger than in New York! I checked the CDC web visualization where the data was downloaded from, and it had the exact same issue.\n",
    "\n",
    "Also, the deaths counts don't seem to match up well with totals from other sources."
   ]
  },
  {
   "cell_type": "code",
   "execution_count": null,
   "metadata": {},
   "outputs": [],
   "source": [
    "sub = df[(df.Year == 2020) & (df.Condition == 'Total') & (df.Week >= 10)]"
   ]
  },
  {
   "cell_type": "code",
   "execution_count": null,
   "metadata": {},
   "outputs": [
    {
     "data": {
      "text/html": [
       "<div>\n",
       "<style scoped>\n",
       "    .dataframe tbody tr th:only-of-type {\n",
       "        vertical-align: middle;\n",
       "    }\n",
       "\n",
       "    .dataframe tbody tr th {\n",
       "        vertical-align: top;\n",
       "    }\n",
       "\n",
       "    .dataframe thead th {\n",
       "        text-align: right;\n",
       "    }\n",
       "</style>\n",
       "<table border=\"1\" class=\"dataframe\">\n",
       "  <thead>\n",
       "    <tr style=\"text-align: right;\">\n",
       "      <th></th>\n",
       "      <th>Week</th>\n",
       "      <th>Year</th>\n",
       "      <th>Region</th>\n",
       "      <th>Condition</th>\n",
       "      <th>Deaths</th>\n",
       "    </tr>\n",
       "  </thead>\n",
       "  <tbody>\n",
       "    <tr>\n",
       "      <th>14064</th>\n",
       "      <td>10</td>\n",
       "      <td>2020</td>\n",
       "      <td>New York</td>\n",
       "      <td>Total</td>\n",
       "      <td>1939</td>\n",
       "    </tr>\n",
       "    <tr>\n",
       "      <th>14065</th>\n",
       "      <td>11</td>\n",
       "      <td>2020</td>\n",
       "      <td>New York</td>\n",
       "      <td>Total</td>\n",
       "      <td>2035</td>\n",
       "    </tr>\n",
       "    <tr>\n",
       "      <th>14066</th>\n",
       "      <td>12</td>\n",
       "      <td>2020</td>\n",
       "      <td>New York</td>\n",
       "      <td>Total</td>\n",
       "      <td>2386</td>\n",
       "    </tr>\n",
       "    <tr>\n",
       "      <th>14067</th>\n",
       "      <td>13</td>\n",
       "      <td>2020</td>\n",
       "      <td>New York</td>\n",
       "      <td>Total</td>\n",
       "      <td>3182</td>\n",
       "    </tr>\n",
       "    <tr>\n",
       "      <th>14068</th>\n",
       "      <td>14</td>\n",
       "      <td>2020</td>\n",
       "      <td>New York</td>\n",
       "      <td>Total</td>\n",
       "      <td>2736</td>\n",
       "    </tr>\n",
       "  </tbody>\n",
       "</table>\n",
       "</div>"
      ],
      "text/plain": [
       "       Week  Year    Region Condition  Deaths\n",
       "14064    10  2020  New York     Total    1939\n",
       "14065    11  2020  New York     Total    2035\n",
       "14066    12  2020  New York     Total    2386\n",
       "14067    13  2020  New York     Total    3182\n",
       "14068    14  2020  New York     Total    2736"
      ]
     },
     "execution_count": null,
     "metadata": {},
     "output_type": "execute_result"
    }
   ],
   "source": [
    "sub[sub.Region == 'New York']"
   ]
  },
  {
   "cell_type": "code",
   "execution_count": null,
   "metadata": {},
   "outputs": [
    {
     "data": {
      "text/html": [
       "<div>\n",
       "<style scoped>\n",
       "    .dataframe tbody tr th:only-of-type {\n",
       "        vertical-align: middle;\n",
       "    }\n",
       "\n",
       "    .dataframe tbody tr th {\n",
       "        vertical-align: top;\n",
       "    }\n",
       "\n",
       "    .dataframe thead th {\n",
       "        text-align: right;\n",
       "    }\n",
       "</style>\n",
       "<table border=\"1\" class=\"dataframe\">\n",
       "  <thead>\n",
       "    <tr style=\"text-align: right;\">\n",
       "      <th></th>\n",
       "      <th>Week</th>\n",
       "      <th>Year</th>\n",
       "      <th>Region</th>\n",
       "      <th>Condition</th>\n",
       "      <th>Deaths</th>\n",
       "    </tr>\n",
       "  </thead>\n",
       "  <tbody>\n",
       "    <tr>\n",
       "      <th>14485</th>\n",
       "      <td>10</td>\n",
       "      <td>2020</td>\n",
       "      <td>New York City</td>\n",
       "      <td>Total</td>\n",
       "      <td>1101</td>\n",
       "    </tr>\n",
       "    <tr>\n",
       "      <th>14486</th>\n",
       "      <td>11</td>\n",
       "      <td>2020</td>\n",
       "      <td>New York City</td>\n",
       "      <td>Total</td>\n",
       "      <td>1353</td>\n",
       "    </tr>\n",
       "    <tr>\n",
       "      <th>14487</th>\n",
       "      <td>12</td>\n",
       "      <td>2020</td>\n",
       "      <td>New York City</td>\n",
       "      <td>Total</td>\n",
       "      <td>2474</td>\n",
       "    </tr>\n",
       "    <tr>\n",
       "      <th>14488</th>\n",
       "      <td>13</td>\n",
       "      <td>2020</td>\n",
       "      <td>New York City</td>\n",
       "      <td>Total</td>\n",
       "      <td>4408</td>\n",
       "    </tr>\n",
       "    <tr>\n",
       "      <th>14489</th>\n",
       "      <td>14</td>\n",
       "      <td>2020</td>\n",
       "      <td>New York City</td>\n",
       "      <td>Total</td>\n",
       "      <td>3426</td>\n",
       "    </tr>\n",
       "  </tbody>\n",
       "</table>\n",
       "</div>"
      ],
      "text/plain": [
       "       Week  Year         Region Condition  Deaths\n",
       "14485    10  2020  New York City     Total    1101\n",
       "14486    11  2020  New York City     Total    1353\n",
       "14487    12  2020  New York City     Total    2474\n",
       "14488    13  2020  New York City     Total    4408\n",
       "14489    14  2020  New York City     Total    3426"
      ]
     },
     "execution_count": null,
     "metadata": {},
     "output_type": "execute_result"
    }
   ],
   "source": [
    "sub[sub.Region == 'New York City']"
   ]
  },
  {
   "cell_type": "markdown",
   "metadata": {},
   "source": [
    "## Save"
   ]
  },
  {
   "cell_type": "code",
   "execution_count": null,
   "metadata": {},
   "outputs": [],
   "source": [
    "df.to_csv(proc_dir/'deaths.csv', index=False)"
   ]
  },
  {
   "cell_type": "markdown",
   "metadata": {},
   "source": [
    "## Dates"
   ]
  },
  {
   "cell_type": "markdown",
   "metadata": {},
   "source": [
    "While there is no proper documentation, the visualization tool shows when weeks start/end.\n",
    "\n",
    "It appears weeks end on a Saturday, and fractional weeks from the previous year are included in week 1. For example, 2020 week 1 starts on 2019 December 29th."
   ]
  },
  {
   "cell_type": "code",
   "execution_count": null,
   "metadata": {},
   "outputs": [],
   "source": [
    "dates = pd.DataFrame(itertools.chain(gen_weekdates(2017, datetime.date(2017, 1, 1), 5),\n",
    "                                     gen_weekdates(2018, datetime.date(2017, 12, 31), 5),\n",
    "                                     gen_weekdates(2019, datetime.date(2018, 12, 30), 5),\n",
    "                                     gen_weekdates(2020, datetime.date(2019, 12, 29), 5)))\n",
    "\n",
    "dates.columns = ['Year', 'Week', 'Start', 'End']\n",
    "\n",
    "dates = dates[dates.Week != 52]  # Get rid of last fractional week of each year"
   ]
  },
  {
   "cell_type": "code",
   "execution_count": null,
   "metadata": {},
   "outputs": [
    {
     "data": {
      "text/html": [
       "<div>\n",
       "<style scoped>\n",
       "    .dataframe tbody tr th:only-of-type {\n",
       "        vertical-align: middle;\n",
       "    }\n",
       "\n",
       "    .dataframe tbody tr th {\n",
       "        vertical-align: top;\n",
       "    }\n",
       "\n",
       "    .dataframe thead th {\n",
       "        text-align: right;\n",
       "    }\n",
       "</style>\n",
       "<table border=\"1\" class=\"dataframe\">\n",
       "  <thead>\n",
       "    <tr style=\"text-align: right;\">\n",
       "      <th></th>\n",
       "      <th>Year</th>\n",
       "      <th>Week</th>\n",
       "      <th>Start</th>\n",
       "      <th>End</th>\n",
       "    </tr>\n",
       "  </thead>\n",
       "  <tbody>\n",
       "    <tr>\n",
       "      <th>0</th>\n",
       "      <td>2017</td>\n",
       "      <td>0</td>\n",
       "      <td>2017-01-01</td>\n",
       "      <td>2017-01-07</td>\n",
       "    </tr>\n",
       "    <tr>\n",
       "      <th>1</th>\n",
       "      <td>2017</td>\n",
       "      <td>1</td>\n",
       "      <td>2017-01-08</td>\n",
       "      <td>2017-01-14</td>\n",
       "    </tr>\n",
       "    <tr>\n",
       "      <th>2</th>\n",
       "      <td>2017</td>\n",
       "      <td>2</td>\n",
       "      <td>2017-01-15</td>\n",
       "      <td>2017-01-21</td>\n",
       "    </tr>\n",
       "    <tr>\n",
       "      <th>3</th>\n",
       "      <td>2017</td>\n",
       "      <td>3</td>\n",
       "      <td>2017-01-22</td>\n",
       "      <td>2017-01-28</td>\n",
       "    </tr>\n",
       "    <tr>\n",
       "      <th>4</th>\n",
       "      <td>2017</td>\n",
       "      <td>4</td>\n",
       "      <td>2017-01-29</td>\n",
       "      <td>2017-02-04</td>\n",
       "    </tr>\n",
       "  </tbody>\n",
       "</table>\n",
       "</div>"
      ],
      "text/plain": [
       "   Year  Week       Start         End\n",
       "0  2017     0  2017-01-01  2017-01-07\n",
       "1  2017     1  2017-01-08  2017-01-14\n",
       "2  2017     2  2017-01-15  2017-01-21\n",
       "3  2017     3  2017-01-22  2017-01-28\n",
       "4  2017     4  2017-01-29  2017-02-04"
      ]
     },
     "execution_count": null,
     "metadata": {},
     "output_type": "execute_result"
    }
   ],
   "source": [
    "dates.head()"
   ]
  },
  {
   "cell_type": "code",
   "execution_count": null,
   "metadata": {},
   "outputs": [],
   "source": [
    "# All weeks have 7 days\n",
    "assert all((dates.End - dates.Start).apply(lambda x: x.days + 1) == 7)\n",
    "\n",
    "assert all(dates.Year.value_counts() == 52)\n",
    "\n",
    "assert dates[(dates.Year == 2017) & (dates.Week == 14)].End.iloc[0] == datetime.date(2017, 4, 15)\n",
    "\n",
    "assert dates[(dates.Year == 2020) & (dates.Week == 5)].End.iloc[0] == datetime.date(2020, 2, 8)"
   ]
  },
  {
   "cell_type": "code",
   "execution_count": null,
   "metadata": {},
   "outputs": [],
   "source": [
    "dates.to_csv(proc_dir/'week_dates.csv', index=False)"
   ]
  },
  {
   "cell_type": "code",
   "execution_count": null,
   "metadata": {},
   "outputs": [],
   "source": []
  }
 ],
 "metadata": {
  "kernelspec": {
   "display_name": "Python 3",
   "language": "python",
   "name": "python3"
  }
 },
 "nbformat": 4,
 "nbformat_minor": 4
}
